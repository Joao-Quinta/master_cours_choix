{
 "cells": [
  {
   "cell_type": "code",
   "execution_count": 9,
   "id": "7fdb3707",
   "metadata": {},
   "outputs": [],
   "source": [
    "import numpy as np\n",
    "\n",
    "confusion_matrix =np.array([[ 97,14,45,63,83],\n",
    "            [28,13,31,85,93],\n",
    "            [71,9,92,47,115],\n",
    "            [14,8,22,184,34],\n",
    "            [42,15,42,58,187]])\n",
    "\n",
    "\n",
    "true_positives = np.diag(confusion_matrix)\n",
    "false_positives = np.sum(confusion_matrix, axis=0) - true_positives\n",
    "false_negatives = np.sum(confusion_matrix, axis=1) - true_positives\n",
    "\n",
    "total_instances = confusion_matrix.sum()\n",
    "# Calculate True Negatives for each class\n",
    "true_negatives = []\n",
    "for i in range(confusion_matrix.shape[0]):\n",
    "    tn = total_instances - (confusion_matrix[i, :].sum() + confusion_matrix[:, i].sum() - confusion_matrix[i, i])\n",
    "    true_negatives.append(tn)\n",
    "\n",
    "\n",
    "precision = np.nan_to_num(np.divide(true_positives, (true_positives + false_positives)))\n",
    "recall = np.nan_to_num(np.divide(true_positives, (true_positives + false_negatives)))\n",
    "f1_scores = 2 * (precision * recall) / (precision + recall)\n",
    "\n",
    "# Micro calculations\n",
    "micro_precision = true_positives.sum() / (true_positives + false_positives).sum()\n",
    "micro_recall = true_positives.sum() / (true_positives + false_negatives).sum()\n",
    "micro_f1 = 2 * (micro_precision * micro_recall) / (micro_precision + micro_recall)\n",
    "\n",
    "# Macro calculations\n",
    "macro_precision = np.mean(precision)\n",
    "macro_recall = np.mean(recall)\n",
    "macro_f1 = np.mean(f1_scores)\n",
    "\n",
    "# Weighted calculations\n",
    "weights = confusion_matrix.sum(axis=1) / total_instances\n",
    "weighted_precision = np.sum(precision * weights)\n",
    "weighted_recall = np.sum(recall * weights)\n",
    "weighted_f1 = np.sum(f1_scores * weights)\n"
   ]
  },
  {
   "cell_type": "code",
   "execution_count": 10,
   "id": "77bf8621",
   "metadata": {},
   "outputs": [
    {
     "name": "stdout",
     "output_type": "stream",
     "text": [
      "True Positives for each class: [ 97  13  92 184 187]\n",
      "False Positives for each class: [155  46 140 253 325]\n",
      "True Negatives for each class: [1035, 1196, 1018, 977, 823]\n",
      "False Negatives for each class: [205 237 242  78 157]\n"
     ]
    }
   ],
   "source": [
    "print(\"True Positives for each class:\", true_positives)\n",
    "print(\"False Positives for each class:\", false_positives)\n",
    "print(\"True Negatives for each class:\", true_negatives)\n",
    "print(\"False Negatives for each class:\", false_negatives)"
   ]
  },
  {
   "cell_type": "code",
   "execution_count": 11,
   "id": "4fcc87e1",
   "metadata": {},
   "outputs": [
    {
     "name": "stdout",
     "output_type": "stream",
     "text": [
      "Precision for each class: [0.38492063 0.22033898 0.39655172 0.42105263 0.36523438]\n",
      "Recall for each class: [0.32119205 0.052      0.2754491  0.70229008 0.54360465]\n"
     ]
    }
   ],
   "source": [
    "print(\"Precision for each class:\", precision)\n",
    "print(\"Recall for each class:\", recall)"
   ]
  },
  {
   "cell_type": "code",
   "execution_count": 12,
   "id": "376fad9c",
   "metadata": {},
   "outputs": [
    {
     "name": "stdout",
     "output_type": "stream",
     "text": [
      "Micro Precision: 0.38404825737265413\n",
      "Micro Recall: 0.38404825737265413\n",
      "Micro F1 Score: 0.38404825737265413\n"
     ]
    }
   ],
   "source": [
    "print(\"Micro Precision:\", micro_precision)\n",
    "print(\"Micro Recall:\", micro_recall)\n",
    "print(\"Micro F1 Score:\", micro_f1)"
   ]
  },
  {
   "cell_type": "code",
   "execution_count": 13,
   "id": "aa1c520e",
   "metadata": {},
   "outputs": [
    {
     "name": "stdout",
     "output_type": "stream",
     "text": [
      "Macro Precision: 0.3576196697376722\n",
      "Macro Recall: 0.37890717645504157\n",
      "Macro F1 Score: 0.344558701570777\n"
     ]
    }
   ],
   "source": [
    "print(\"Macro Precision:\", macro_precision)\n",
    "print(\"Macro Recall:\", macro_recall)\n",
    "print(\"Macro F1 Score:\", macro_f1)"
   ]
  },
  {
   "cell_type": "code",
   "execution_count": 14,
   "id": "1a8b04e0",
   "metadata": {},
   "outputs": [
    {
     "name": "stdout",
     "output_type": "stream",
     "text": [
      "Weighted Precision: 0.361752994533845\n",
      "Weighted Recall: 0.38404825737265413\n",
      "Weighted F1 Score: 0.35094026391704214\n"
     ]
    }
   ],
   "source": [
    "print(\"Weighted Precision:\", weighted_precision)\n",
    "print(\"Weighted Recall:\", weighted_recall)\n",
    "print(\"Weighted F1 Score:\", weighted_f1)"
   ]
  },
  {
   "cell_type": "code",
   "execution_count": null,
   "id": "de4a561f",
   "metadata": {},
   "outputs": [],
   "source": []
  }
 ],
 "metadata": {
  "kernelspec": {
   "display_name": "Python 3 (ipykernel)",
   "language": "python",
   "name": "python3"
  },
  "language_info": {
   "codemirror_mode": {
    "name": "ipython",
    "version": 3
   },
   "file_extension": ".py",
   "mimetype": "text/x-python",
   "name": "python",
   "nbconvert_exporter": "python",
   "pygments_lexer": "ipython3",
   "version": "3.10.9"
  }
 },
 "nbformat": 4,
 "nbformat_minor": 5
}
