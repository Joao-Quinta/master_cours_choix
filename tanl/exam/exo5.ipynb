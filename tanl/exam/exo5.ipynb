{
 "cells": [
  {
   "cell_type": "code",
   "execution_count": 1,
   "id": "6f980360",
   "metadata": {},
   "outputs": [],
   "source": [
    "import lang2vec.lang2vec as l2v\n",
    "import numpy as np"
   ]
  },
  {
   "cell_type": "code",
   "execution_count": 2,
   "id": "c8c156bd",
   "metadata": {},
   "outputs": [
    {
     "name": "stdout",
     "output_type": "stream",
     "text": [
      "URIEL languages number: 3718\n",
      "lan2vec languages number: 4005\n"
     ]
    }
   ],
   "source": [
    "print(\"URIEL languages number:\", len(l2v.available_uriel_languages()))\n",
    "print(\"lan2vec languages number:\", len(l2v.available_languages()))"
   ]
  },
  {
   "cell_type": "code",
   "execution_count": 3,
   "id": "ab8ab9f6",
   "metadata": {},
   "outputs": [
    {
     "name": "stdout",
     "output_type": "stream",
     "text": [
      "Phonology features: 28\n",
      "Inventory features: 158\n",
      "features_syn: 103\n"
     ]
    }
   ],
   "source": [
    "features_phon = l2v.get_features(\"eng\", \"phonology_average\")\n",
    "features_inv = l2v.get_features(\"eng\", \"inventory_average\")\n",
    "print(\"Phonology features:\", len(features_phon[\"eng\"]))\n",
    "print(\"Inventory features:\", len(features_inv[\"eng\"]))\n",
    "features_syn = l2v.get_features(\"eng\", \"syntax_average\")\n",
    "print(\"features_syn:\", len(features_syn[\"eng\"]))"
   ]
  },
  {
   "cell_type": "code",
   "execution_count": 4,
   "id": "a0404302",
   "metadata": {},
   "outputs": [
    {
     "name": "stdout",
     "output_type": "stream",
     "text": [
      "Eng, Jpn, Syntax: 18.0\n"
     ]
    }
   ],
   "source": [
    "eng_jpn_syn = l2v.get_features(\"eng jpn\", \"syntax_knn\")\n",
    "print(\"Eng, Jpn, Syntax:\", np.dot(eng_jpn_syn[\"eng\"], eng_jpn_syn[\"jpn\"]))"
   ]
  },
  {
   "cell_type": "code",
   "execution_count": 5,
   "id": "4e3523b4",
   "metadata": {},
   "outputs": [
    {
     "name": "stdout",
     "output_type": "stream",
     "text": [
      "Eng, Fra, Syntax: 32.0\n"
     ]
    }
   ],
   "source": [
    "eng_fra_syn = l2v.get_features(\"eng fra\", \"syntax_knn\")\n",
    "print(\"Eng, Fra, Syntax:\", np.dot(eng_fra_syn[\"eng\"], eng_fra_syn[\"fra\"]))"
   ]
  },
  {
   "cell_type": "code",
   "execution_count": 6,
   "id": "053e5115",
   "metadata": {},
   "outputs": [
    {
     "name": "stdout",
     "output_type": "stream",
     "text": [
      "Eng, Jpn, Phonology: 7.0\n"
     ]
    }
   ],
   "source": [
    "eng_jpn_phon = l2v.get_features(\"eng jpn\", \"phonology_knn\")\n",
    "print(\"Eng, Jpn, Phonology:\", np.dot(eng_jpn_phon[\"eng\"], eng_jpn_phon[\"jpn\"]))"
   ]
  },
  {
   "cell_type": "code",
   "execution_count": 7,
   "id": "5aec181f",
   "metadata": {},
   "outputs": [
    {
     "name": "stdout",
     "output_type": "stream",
     "text": [
      "Eng, Fra, Phonology: 9.0\n"
     ]
    }
   ],
   "source": [
    "eng_fra_phon = l2v.get_features(\"eng fra\", \"phonology_knn\")\n",
    "print(\"Eng, Fra, Phonology:\", np.dot(eng_fra_phon[\"eng\"], eng_fra_phon[\"fra\"]))"
   ]
  },
  {
   "cell_type": "code",
   "execution_count": null,
   "id": "65693827",
   "metadata": {},
   "outputs": [],
   "source": []
  }
 ],
 "metadata": {
  "kernelspec": {
   "display_name": "Python 3 (ipykernel)",
   "language": "python",
   "name": "python3"
  },
  "language_info": {
   "codemirror_mode": {
    "name": "ipython",
    "version": 3
   },
   "file_extension": ".py",
   "mimetype": "text/x-python",
   "name": "python",
   "nbconvert_exporter": "python",
   "pygments_lexer": "ipython3",
   "version": "3.11.5"
  }
 },
 "nbformat": 4,
 "nbformat_minor": 5
}
