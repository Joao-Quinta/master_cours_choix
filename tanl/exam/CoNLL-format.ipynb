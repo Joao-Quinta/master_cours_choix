{
 "cells": [
  {
   "cell_type": "code",
   "execution_count": 4,
   "metadata": {},
   "outputs": [
    {
     "name": "stdout",
     "output_type": "stream",
     "text": [
      "Collecting fr-core-news-md==3.7.0\n",
      "  Downloading https://github.com/explosion/spacy-models/releases/download/fr_core_news_md-3.7.0/fr_core_news_md-3.7.0-py3-none-any.whl (45.8 MB)\n",
      "     --------------------------------------- 45.8/45.8 MB 21.1 MB/s eta 0:00:00\n",
      "Requirement already satisfied: spacy<3.8.0,>=3.7.0 in c:\\users\\qjoao\\anaconda3\\lib\\site-packages (from fr-core-news-md==3.7.0) (3.7.2)\n",
      "Requirement already satisfied: spacy-loggers<2.0.0,>=1.0.0 in c:\\users\\qjoao\\anaconda3\\lib\\site-packages (from spacy<3.8.0,>=3.7.0->fr-core-news-md==3.7.0) (1.0.5)\n",
      "Requirement already satisfied: thinc<8.3.0,>=8.1.8 in c:\\users\\qjoao\\anaconda3\\lib\\site-packages (from spacy<3.8.0,>=3.7.0->fr-core-news-md==3.7.0) (8.2.1)\n",
      "Requirement already satisfied: wasabi<1.2.0,>=0.9.1 in c:\\users\\qjoao\\anaconda3\\lib\\site-packages (from spacy<3.8.0,>=3.7.0->fr-core-news-md==3.7.0) (1.1.2)\n",
      "Requirement already satisfied: smart-open<7.0.0,>=5.2.1 in c:\\users\\qjoao\\anaconda3\\lib\\site-packages (from spacy<3.8.0,>=3.7.0->fr-core-news-md==3.7.0) (5.2.1)\n",
      "Requirement already satisfied: cymem<2.1.0,>=2.0.2 in c:\\users\\qjoao\\anaconda3\\lib\\site-packages (from spacy<3.8.0,>=3.7.0->fr-core-news-md==3.7.0) (2.0.8)\n",
      "Requirement already satisfied: langcodes<4.0.0,>=3.2.0 in c:\\users\\qjoao\\anaconda3\\lib\\site-packages (from spacy<3.8.0,>=3.7.0->fr-core-news-md==3.7.0) (3.3.0)\n",
      "Requirement already satisfied: typer<0.10.0,>=0.3.0 in c:\\users\\qjoao\\anaconda3\\lib\\site-packages (from spacy<3.8.0,>=3.7.0->fr-core-news-md==3.7.0) (0.9.0)\n",
      "Requirement already satisfied: numpy>=1.19.0 in c:\\users\\qjoao\\anaconda3\\lib\\site-packages (from spacy<3.8.0,>=3.7.0->fr-core-news-md==3.7.0) (1.23.5)\n",
      "Requirement already satisfied: catalogue<2.1.0,>=2.0.6 in c:\\users\\qjoao\\anaconda3\\lib\\site-packages (from spacy<3.8.0,>=3.7.0->fr-core-news-md==3.7.0) (2.0.10)\n",
      "Requirement already satisfied: srsly<3.0.0,>=2.4.3 in c:\\users\\qjoao\\anaconda3\\lib\\site-packages (from spacy<3.8.0,>=3.7.0->fr-core-news-md==3.7.0) (2.4.8)\n",
      "Requirement already satisfied: requests<3.0.0,>=2.13.0 in c:\\users\\qjoao\\anaconda3\\lib\\site-packages (from spacy<3.8.0,>=3.7.0->fr-core-news-md==3.7.0) (2.28.1)\n",
      "Requirement already satisfied: spacy-legacy<3.1.0,>=3.0.11 in c:\\users\\qjoao\\anaconda3\\lib\\site-packages (from spacy<3.8.0,>=3.7.0->fr-core-news-md==3.7.0) (3.0.12)\n",
      "Requirement already satisfied: murmurhash<1.1.0,>=0.28.0 in c:\\users\\qjoao\\anaconda3\\lib\\site-packages (from spacy<3.8.0,>=3.7.0->fr-core-news-md==3.7.0) (1.0.10)\n",
      "Requirement already satisfied: setuptools in c:\\users\\qjoao\\anaconda3\\lib\\site-packages (from spacy<3.8.0,>=3.7.0->fr-core-news-md==3.7.0) (65.6.3)\n",
      "Requirement already satisfied: packaging>=20.0 in c:\\users\\qjoao\\anaconda3\\lib\\site-packages (from spacy<3.8.0,>=3.7.0->fr-core-news-md==3.7.0) (22.0)\n",
      "Requirement already satisfied: pydantic!=1.8,!=1.8.1,<3.0.0,>=1.7.4 in c:\\users\\qjoao\\anaconda3\\lib\\site-packages (from spacy<3.8.0,>=3.7.0->fr-core-news-md==3.7.0) (2.5.2)\n",
      "Requirement already satisfied: tqdm<5.0.0,>=4.38.0 in c:\\users\\qjoao\\anaconda3\\lib\\site-packages (from spacy<3.8.0,>=3.7.0->fr-core-news-md==3.7.0) (4.64.1)\n",
      "Requirement already satisfied: jinja2 in c:\\users\\qjoao\\anaconda3\\lib\\site-packages (from spacy<3.8.0,>=3.7.0->fr-core-news-md==3.7.0) (3.1.2)\n",
      "Requirement already satisfied: preshed<3.1.0,>=3.0.2 in c:\\users\\qjoao\\anaconda3\\lib\\site-packages (from spacy<3.8.0,>=3.7.0->fr-core-news-md==3.7.0) (3.0.9)\n",
      "Requirement already satisfied: weasel<0.4.0,>=0.1.0 in c:\\users\\qjoao\\anaconda3\\lib\\site-packages (from spacy<3.8.0,>=3.7.0->fr-core-news-md==3.7.0) (0.3.4)\n",
      "Requirement already satisfied: annotated-types>=0.4.0 in c:\\users\\qjoao\\anaconda3\\lib\\site-packages (from pydantic!=1.8,!=1.8.1,<3.0.0,>=1.7.4->spacy<3.8.0,>=3.7.0->fr-core-news-md==3.7.0) (0.6.0)\n",
      "Requirement already satisfied: pydantic-core==2.14.5 in c:\\users\\qjoao\\anaconda3\\lib\\site-packages (from pydantic!=1.8,!=1.8.1,<3.0.0,>=1.7.4->spacy<3.8.0,>=3.7.0->fr-core-news-md==3.7.0) (2.14.5)\n",
      "Requirement already satisfied: typing-extensions>=4.6.1 in c:\\users\\qjoao\\anaconda3\\lib\\site-packages (from pydantic!=1.8,!=1.8.1,<3.0.0,>=1.7.4->spacy<3.8.0,>=3.7.0->fr-core-news-md==3.7.0) (4.8.0)\n",
      "Requirement already satisfied: charset-normalizer<3,>=2 in c:\\users\\qjoao\\anaconda3\\lib\\site-packages (from requests<3.0.0,>=2.13.0->spacy<3.8.0,>=3.7.0->fr-core-news-md==3.7.0) (2.0.4)\n",
      "Requirement already satisfied: idna<4,>=2.5 in c:\\users\\qjoao\\anaconda3\\lib\\site-packages (from requests<3.0.0,>=2.13.0->spacy<3.8.0,>=3.7.0->fr-core-news-md==3.7.0) (3.4)\n",
      "Requirement already satisfied: urllib3<1.27,>=1.21.1 in c:\\users\\qjoao\\anaconda3\\lib\\site-packages (from requests<3.0.0,>=2.13.0->spacy<3.8.0,>=3.7.0->fr-core-news-md==3.7.0) (1.26.14)\n",
      "Requirement already satisfied: certifi>=2017.4.17 in c:\\users\\qjoao\\anaconda3\\lib\\site-packages (from requests<3.0.0,>=2.13.0->spacy<3.8.0,>=3.7.0->fr-core-news-md==3.7.0) (2023.7.22)\n",
      "Requirement already satisfied: blis<0.8.0,>=0.7.8 in c:\\users\\qjoao\\anaconda3\\lib\\site-packages (from thinc<8.3.0,>=8.1.8->spacy<3.8.0,>=3.7.0->fr-core-news-md==3.7.0) (0.7.11)\n",
      "Requirement already satisfied: confection<1.0.0,>=0.0.1 in c:\\users\\qjoao\\anaconda3\\lib\\site-packages (from thinc<8.3.0,>=8.1.8->spacy<3.8.0,>=3.7.0->fr-core-news-md==3.7.0) (0.1.4)\n",
      "Requirement already satisfied: colorama in c:\\users\\qjoao\\anaconda3\\lib\\site-packages (from tqdm<5.0.0,>=4.38.0->spacy<3.8.0,>=3.7.0->fr-core-news-md==3.7.0) (0.4.6)\n",
      "Requirement already satisfied: click<9.0.0,>=7.1.1 in c:\\users\\qjoao\\anaconda3\\lib\\site-packages (from typer<0.10.0,>=0.3.0->spacy<3.8.0,>=3.7.0->fr-core-news-md==3.7.0) (8.0.4)\n",
      "Requirement already satisfied: cloudpathlib<0.17.0,>=0.7.0 in c:\\users\\qjoao\\anaconda3\\lib\\site-packages (from weasel<0.4.0,>=0.1.0->spacy<3.8.0,>=3.7.0->fr-core-news-md==3.7.0) (0.16.0)\n",
      "Requirement already satisfied: MarkupSafe>=2.0 in c:\\users\\qjoao\\anaconda3\\lib\\site-packages (from jinja2->spacy<3.8.0,>=3.7.0->fr-core-news-md==3.7.0) (2.1.1)\n",
      "\u001b[38;5;2m[+] Download and installation successful\u001b[0m\n",
      "You can now load the package via spacy.load('fr_core_news_md')\n"
     ]
    }
   ],
   "source": [
    "import numpy as np\n",
    "import spacy\n",
    "!python -m spacy download fr_core_news_md"
   ]
  },
  {
   "cell_type": "code",
   "execution_count": 5,
   "metadata": {
    "pycharm": {
     "name": "#%%\n"
    }
   },
   "outputs": [],
   "source": [
    "nlp = spacy.load('fr_core_news_md')\n"
   ]
  },
  {
   "cell_type": "code",
   "execution_count": 6,
   "metadata": {
    "pycharm": {
     "name": "#%%\n"
    }
   },
   "outputs": [
    {
     "name": "stdout",
     "output_type": "stream",
     "text": [
      "Token, Lemma, UPOS, Features, linklabel\n",
      "j' | je | PRON | Number=Sing|Person=1 | nsubj\n",
      "espère | espérer | VERB | Mood=Ind|Number=Sing|Person=1|Tense=Pres|VerbForm=Fin | ROOT\n",
      "que | que | SCONJ |  | mark\n",
      "ma | mon | DET | Gender=Fem|Number=Sing|Poss=Yes | det\n",
      "propositions | proposition | NOUN | Gender=Fem|Number=Plur | nsubj:pass\n",
      "sera | être | AUX | Mood=Ind|Number=Sing|Person=3|Tense=Fut|VerbForm=Fin | aux:pass\n",
      "prise | prendre | VERB | Gender=Fem|Number=Sing|Tense=Past|VerbForm=Part|Voice=Pass | ccomp\n",
      "en | en | ADP |  | case\n",
      "considération | considération | NOUN | Gender=Fem|Number=Sing | obl:arg\n"
     ]
    }
   ],
   "source": [
    "doc = nlp(u\"j'espère que ma propositions sera prise en considération\")\n",
    "print(\"Token, Lemma, UPOS, Features, linklabel\")\n",
    "for token in doc:\n",
    "    print(token,\"|\", token.lemma_,\"|\", token.tag_,\"|\",token.morph,\"|\", token.dep_)\n",
    "\n",
    "\n"
   ]
  },
  {
   "cell_type": "code",
   "execution_count": null,
   "metadata": {
    "pycharm": {
     "name": "#%%\n"
    }
   },
   "outputs": [],
   "source": []
  }
 ],
 "metadata": {
  "kernelspec": {
   "display_name": "Python 3 (ipykernel)",
   "language": "python",
   "name": "python3"
  },
  "language_info": {
   "codemirror_mode": {
    "name": "ipython",
    "version": 3
   },
   "file_extension": ".py",
   "mimetype": "text/x-python",
   "name": "python",
   "nbconvert_exporter": "python",
   "pygments_lexer": "ipython3",
   "version": "3.10.9"
  }
 },
 "nbformat": 4,
 "nbformat_minor": 1
}
