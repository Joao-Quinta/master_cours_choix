{
 "cells": [
  {
   "cell_type": "markdown",
   "id": "6ef30592",
   "metadata": {},
   "source": [
    "Joao Quinta"
   ]
  },
  {
   "cell_type": "markdown",
   "id": "5c3173c8",
   "metadata": {},
   "source": [
    "## TP 7"
   ]
  },
  {
   "cell_type": "code",
   "execution_count": 1,
   "id": "4c2fea77",
   "metadata": {},
   "outputs": [],
   "source": [
    "import numpy as np\n",
    "import matplotlib.pyplot as plt\n",
    "from datetime import datetime\n",
    "import matplotlib.dates as mdates\n",
    "import pandas as pd"
   ]
  },
  {
   "cell_type": "code",
   "execution_count": null,
   "id": "bf084002",
   "metadata": {},
   "outputs": [],
   "source": []
  }
 ],
 "metadata": {
  "kernelspec": {
   "display_name": "Python 3 (ipykernel)",
   "language": "python",
   "name": "python3"
  },
  "language_info": {
   "codemirror_mode": {
    "name": "ipython",
    "version": 3
   },
   "file_extension": ".py",
   "mimetype": "text/x-python",
   "name": "python",
   "nbconvert_exporter": "python",
   "pygments_lexer": "ipython3",
   "version": "3.10.9"
  }
 },
 "nbformat": 4,
 "nbformat_minor": 5
}
