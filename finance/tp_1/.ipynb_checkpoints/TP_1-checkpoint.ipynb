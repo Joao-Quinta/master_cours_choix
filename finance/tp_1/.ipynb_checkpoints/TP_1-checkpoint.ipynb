{
 "cells": [
  {
   "cell_type": "markdown",
   "id": "6ef30592",
   "metadata": {},
   "source": [
    "Joao Quinta"
   ]
  },
  {
   "cell_type": "markdown",
   "id": "5c3173c8",
   "metadata": {},
   "source": [
    "## TP 1"
   ]
  },
  {
   "cell_type": "code",
   "execution_count": 44,
   "id": "4c2fea77",
   "metadata": {},
   "outputs": [],
   "source": [
    "import numpy as np"
   ]
  },
  {
   "cell_type": "markdown",
   "id": "3864aa29",
   "metadata": {},
   "source": [
    "### EX 1 code"
   ]
  },
  {
   "cell_type": "code",
   "execution_count": 45,
   "id": "75906d10",
   "metadata": {},
   "outputs": [
    {
     "name": "stdout",
     "output_type": "stream",
     "text": [
      "p_t :  [100 101 102 103 104 105 106 107 108 109 110 111 112]\n",
      "\n",
      "Monthly return :  [0.01    0.0099  0.0098  0.00971 0.00962 0.00952 0.00943 0.00935 0.00926\n",
      " 0.00917 0.00909 0.00901]\n",
      "\n",
      "Annual return :                    0.11999999999999966  --> TO avoid compounding errors, I'll round this value to 0,12\n",
      "Sum :                              0.11386608961336608\n",
      "\n",
      "Average monthly return :           0.009488792934583046\n",
      "Average of all monthly return :    0.00948884080111384\n",
      "Difference between them :          -4.7866530794582474e-08\n"
     ]
    }
   ],
   "source": [
    "#define table\n",
    "p_t = np.array([100,101,102,103,104,105,106,107,108,109,110,111,112])\n",
    "print(\"p_t : \",p_t)\n",
    "\n",
    "print()\n",
    "\n",
    "# 1.1\n",
    "m_r = [p_t[i+1]/p_t[i] - 1 for i in range(12)]\n",
    "print(\"Monthly return : \", np.round(m_r, 5))\n",
    "\n",
    "print()\n",
    "\n",
    "# 1.2\n",
    "a_r = np.prod(np.array(m_r)+1) - 1\n",
    "print(\"Annual return :                   \", a_r,   \" --> TO avoid compounding errors, I'll round this value to 0,12\")\n",
    "print(\"Sum :                             \", np.sum(m_r))\n",
    "\n",
    "print()\n",
    "\n",
    "# 1.3\n",
    "avg_m_r = (1 + 0.12)**(1/12) - 1\n",
    "mean_m_r = np.mean(m_r)\n",
    "print(\"Average monthly return :          \", avg_m_r)\n",
    "print(\"Average of all monthly return :   \", mean_m_r)\n",
    "print(\"Difference between them :         \", avg_m_r - mean_m_r)"
   ]
  },
  {
   "cell_type": "markdown",
   "id": "7ab5605a",
   "metadata": {},
   "source": [
    "### EX 1 comment"
   ]
  },
  {
   "cell_type": "markdown",
   "id": "1cfdc60f",
   "metadata": {},
   "source": [
    "1.1 - we simply use the formula: $ R_m(t) = \\frac{P(t)-P(t-1)}{P(t-1)}$  \n",
    "  \n",
    "1.2 - we use the formula: $R_a = \\prod_{t=1}^{12} (1 + R_m(t)) - 1$ ===> $R_a = 0.12$  \n",
    "When we sum the 12 monthly returns we get 11.38%, which is wrong  \n",
    "  \n",
    "1.3 - we compute the monthly avg return with the following formula: $R_m = (1 + R_a)^{\\frac{1}{12}}-1 = 0.009489$  \n",
    "The mean of monthly returns is: $\\frac{\\sum_{t=0}^{12} R_m(t)}{12} = 0.009489$  \n",
    "As you can see the difference between both resuts is: -4.7866530794582474e-08"
   ]
  },
  {
   "cell_type": "markdown",
   "id": "abf74942",
   "metadata": {},
   "source": [
    "### EX 2 code"
   ]
  },
  {
   "cell_type": "code",
   "execution_count": 46,
   "id": "cbbcf8bc",
   "metadata": {},
   "outputs": [
    {
     "name": "stdout",
     "output_type": "stream",
     "text": [
      "Initial portofolio value :    1150\n",
      "\n",
      "Value of alphas :             [0.7391304347826086, 0.2608695652173913]\n",
      "\n",
      "Returns :                     [0.05882352941176472, -0.06666666666666665]\n",
      "\n",
      "Portofolio return :           0.026086956521739202\n",
      "Final portfolio value V(t) :  1180\n"
     ]
    }
   ],
   "source": [
    "nb_shares = [10,10]\n",
    "cost = [85,30]\n",
    "\n",
    "# 2.1\n",
    "initial_value = np.sum(np.dot(nb_shares, cost))\n",
    "print(\"Initial portofolio value :   \",  initial_value)\n",
    "\n",
    "print()\n",
    "\n",
    "# 2.2\n",
    "alphas = [nb_shares[i]*cost[i]/initial_value for i in range(2)]\n",
    "print(\"Value of alphas :            \", alphas)\n",
    "\n",
    "print()\n",
    "\n",
    "# 2.3\n",
    "new_cost = [90, 28]\n",
    "returns = [new_cost[i]/cost[i] - 1 for i in range(2)]\n",
    "print(\"Returns :                    \", returns)\n",
    "\n",
    "print()\n",
    "\n",
    "# 2.4\n",
    "p_return = np.sum([nb_shares[i]*new_cost[i] for i in range(2)]) / initial_value - 1\n",
    "print(\"Portofolio return :          \", p_return)\n",
    "end_value = np.sum([nb_shares[i]*new_cost[i] for i in range(2)])\n",
    "print(\"Final portfolio value V(t) : \", end_value)"
   ]
  },
  {
   "cell_type": "markdown",
   "id": "d87e4150",
   "metadata": {},
   "source": [
    "### EX 2 comment"
   ]
  },
  {
   "cell_type": "markdown",
   "id": "a46d534a",
   "metadata": {},
   "source": [
    "2.1 - we compute the initial value by computing the total value of our shares:  $V(t-1) = 10 \\cdot 85 + 10 \\cdot 30 = 1150$  \n",
    "  \n",
    "2.2 - to compute the $\\alpha$ we must compute the proportion of each asset to the initial portfolio value, in other words, how much of the inital portfolio value is due to a given stock, we use the following formula:  \n",
    "$$\\alpha_{asset} = \\frac{\\#shares_{asset} \\cdot cost_{asset}}{V(t-1)}$$  \n",
    "  \n",
    "2.3 - the return of an asset is computed with :  \n",
    "$$ R_{asset} = \\frac{P_{asset}(t) - P_{asset}(t-1)}{P_{asset}(t-1)}$$\n",
    "  \n",
    "2.4 - the return of the portfolio is computed with :  \n",
    "$$R_p(t) = \\frac{\\sum_{a \\in assets} \\#shares_a \\cdot P_a(t)}{V(t-1)}$$"
   ]
  },
  {
   "cell_type": "markdown",
   "id": "d3479e07",
   "metadata": {},
   "source": [
    "### EX 3 code"
   ]
  },
  {
   "cell_type": "code",
   "execution_count": 47,
   "id": "c61b4133",
   "metadata": {},
   "outputs": [
    {
     "name": "stdout",
     "output_type": "stream",
     "text": [
      "The final value in 1 year(s) will be :  10455.062499999998\n",
      "The final value in 5 year(s) will be :  12492.034264621258\n",
      "The final value in 10 year(s) will be :  15605.092006847151\n",
      "\n",
      "The initial value in order to have 10000 in 1 year(s) has to be :  9564.744352317359\n",
      "The initial value in order to have 10000 in 3 year(s) has to be :  8750.242719752925\n",
      "The initial value in order to have 10000 in 10 year(s) has to be :  6408.164716755423\n",
      "\n",
      "Value in one year if it was continously compounded :  10460.278599087169\n"
     ]
    }
   ],
   "source": [
    "# 3.1\n",
    "C = 10000\n",
    "R = 4.5 / 100\n",
    "m = 2\n",
    "\n",
    "final_val = [C * (1 + R/m)**(i*m) for i in [1,5,10]]\n",
    "\n",
    "for i, year in enumerate([1,5,10]):\n",
    "    print(\"The final value in\", year,\"year(s) will be : \", final_val[i])\n",
    "\n",
    "print()\n",
    "\n",
    "# 3.2\n",
    "final_goal = 10000\n",
    "initial_val = [final_goal / (1+R/m)**(i*m) for i in [1,3,10]]\n",
    "\n",
    "for i, year in enumerate([1,3,10]):\n",
    "    print(\"The initial value in order to have\",final_goal,\"in\",year,\"year(s) has to be : \",initial_val[i])\n",
    "\n",
    "print()\n",
    "\n",
    "# 3.3\n",
    "C = 10000\n",
    "\n",
    "cont_comp = C * np.exp(R*1)\n",
    "print(\"Value in one year if it was continously compounded : \", cont_comp)"
   ]
  },
  {
   "cell_type": "markdown",
   "id": "34c82d3d",
   "metadata": {},
   "source": [
    "### EX 3 comment"
   ]
  },
  {
   "cell_type": "markdown",
   "id": "ae03c043",
   "metadata": {},
   "source": [
    "3.1 - to compute the value of a porfolio in the future we use:  \n",
    "$$FV_n^m = V \\cdot (1 + \\frac{R}{m})^{m \\cdot n}$$  \n",
    "where V is the initial value invested, R = 4.5% the return, m = 2 the frequency of payment, and n the number of years.  \n",
    "  \n",
    "3.2 - if order to know the initial value we need to invest to obtain 10000 after x years we use:  \n",
    "$$ V = \\frac{FV_n^m}{(1 + \\frac{R}{m})^{m \\cdot n}}$$  \n",
    "  \n",
    "3.3 - if the return is continuously compounded we compute it with:  \n",
    "$$FV^\\infty_n = V \\cdot e^{R\\cdot n}$$"
   ]
  },
  {
   "cell_type": "code",
   "execution_count": null,
   "id": "e136b7e4",
   "metadata": {},
   "outputs": [],
   "source": []
  }
 ],
 "metadata": {
  "kernelspec": {
   "display_name": "Python 3 (ipykernel)",
   "language": "python",
   "name": "python3"
  },
  "language_info": {
   "codemirror_mode": {
    "name": "ipython",
    "version": 3
   },
   "file_extension": ".py",
   "mimetype": "text/x-python",
   "name": "python",
   "nbconvert_exporter": "python",
   "pygments_lexer": "ipython3",
   "version": "3.9.12"
  }
 },
 "nbformat": 4,
 "nbformat_minor": 5
}
