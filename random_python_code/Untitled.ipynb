{
 "cells": [
  {
   "cell_type": "code",
   "execution_count": 69,
   "id": "01f153ee",
   "metadata": {},
   "outputs": [],
   "source": [
    "import pandas as pd\n",
    "import numpy as np"
   ]
  },
  {
   "cell_type": "code",
   "execution_count": 70,
   "id": "37b4f7cf",
   "metadata": {},
   "outputs": [
    {
     "data": {
      "text/html": [
       "<div>\n",
       "<style scoped>\n",
       "    .dataframe tbody tr th:only-of-type {\n",
       "        vertical-align: middle;\n",
       "    }\n",
       "\n",
       "    .dataframe tbody tr th {\n",
       "        vertical-align: top;\n",
       "    }\n",
       "\n",
       "    .dataframe thead th {\n",
       "        text-align: right;\n",
       "    }\n",
       "</style>\n",
       "<table border=\"1\" class=\"dataframe\">\n",
       "  <thead>\n",
       "    <tr style=\"text-align: right;\">\n",
       "      <th></th>\n",
       "      <th>nom</th>\n",
       "      <th>genre</th>\n",
       "      <th>salaire</th>\n",
       "      <th>metier</th>\n",
       "      <th>aanciennete</th>\n",
       "      <th>age</th>\n",
       "    </tr>\n",
       "  </thead>\n",
       "  <tbody>\n",
       "    <tr>\n",
       "      <th>0</th>\n",
       "      <td>marc</td>\n",
       "      <td>homme</td>\n",
       "      <td>10000</td>\n",
       "      <td>jardiner</td>\n",
       "      <td>5</td>\n",
       "      <td>25</td>\n",
       "    </tr>\n",
       "    <tr>\n",
       "      <th>1</th>\n",
       "      <td>gillou</td>\n",
       "      <td>homme</td>\n",
       "      <td>0</td>\n",
       "      <td>etudiant</td>\n",
       "      <td>10</td>\n",
       "      <td>25</td>\n",
       "    </tr>\n",
       "    <tr>\n",
       "      <th>2</th>\n",
       "      <td>calvin</td>\n",
       "      <td>homme</td>\n",
       "      <td>5000</td>\n",
       "      <td>banquier</td>\n",
       "      <td>1</td>\n",
       "      <td>24</td>\n",
       "    </tr>\n",
       "    <tr>\n",
       "      <th>3</th>\n",
       "      <td>joao</td>\n",
       "      <td>homme</td>\n",
       "      <td>0</td>\n",
       "      <td>etudiant</td>\n",
       "      <td>10</td>\n",
       "      <td>25</td>\n",
       "    </tr>\n",
       "    <tr>\n",
       "      <th>4</th>\n",
       "      <td>leo</td>\n",
       "      <td>femme</td>\n",
       "      <td>10000</td>\n",
       "      <td>biologiste</td>\n",
       "      <td>5</td>\n",
       "      <td>30</td>\n",
       "    </tr>\n",
       "    <tr>\n",
       "      <th>5</th>\n",
       "      <td>lea</td>\n",
       "      <td>femme</td>\n",
       "      <td>10000</td>\n",
       "      <td>informatitienne</td>\n",
       "      <td>5</td>\n",
       "      <td>30</td>\n",
       "    </tr>\n",
       "  </tbody>\n",
       "</table>\n",
       "</div>"
      ],
      "text/plain": [
       "      nom  genre  salaire           metier  aanciennete  age\n",
       "0    marc  homme    10000         jardiner            5   25\n",
       "1  gillou  homme        0         etudiant           10   25\n",
       "2  calvin  homme     5000         banquier            1   24\n",
       "3    joao  homme        0         etudiant           10   25\n",
       "4     leo  femme    10000       biologiste            5   30\n",
       "5     lea  femme    10000  informatitienne            5   30"
      ]
     },
     "execution_count": 70,
     "metadata": {},
     "output_type": "execute_result"
    }
   ],
   "source": [
    "df = pd.read_excel('test.xlsx')\n",
    "df"
   ]
  },
  {
   "cell_type": "code",
   "execution_count": 71,
   "id": "27d71e70",
   "metadata": {},
   "outputs": [
    {
     "data": {
      "text/html": [
       "<div>\n",
       "<style scoped>\n",
       "    .dataframe tbody tr th:only-of-type {\n",
       "        vertical-align: middle;\n",
       "    }\n",
       "\n",
       "    .dataframe tbody tr th {\n",
       "        vertical-align: top;\n",
       "    }\n",
       "\n",
       "    .dataframe thead th {\n",
       "        text-align: right;\n",
       "    }\n",
       "</style>\n",
       "<table border=\"1\" class=\"dataframe\">\n",
       "  <thead>\n",
       "    <tr style=\"text-align: right;\">\n",
       "      <th></th>\n",
       "      <th>nom</th>\n",
       "      <th>genre</th>\n",
       "      <th>salaire</th>\n",
       "      <th>metier</th>\n",
       "      <th>aanciennete</th>\n",
       "      <th>age</th>\n",
       "    </tr>\n",
       "  </thead>\n",
       "  <tbody>\n",
       "    <tr>\n",
       "      <th>0</th>\n",
       "      <td>marc</td>\n",
       "      <td>homme</td>\n",
       "      <td>10000</td>\n",
       "      <td>jardiner</td>\n",
       "      <td>5</td>\n",
       "      <td>25</td>\n",
       "    </tr>\n",
       "    <tr>\n",
       "      <th>2</th>\n",
       "      <td>calvin</td>\n",
       "      <td>homme</td>\n",
       "      <td>5000</td>\n",
       "      <td>banquier</td>\n",
       "      <td>1</td>\n",
       "      <td>24</td>\n",
       "    </tr>\n",
       "    <tr>\n",
       "      <th>4</th>\n",
       "      <td>leo</td>\n",
       "      <td>femme</td>\n",
       "      <td>10000</td>\n",
       "      <td>biologiste</td>\n",
       "      <td>5</td>\n",
       "      <td>30</td>\n",
       "    </tr>\n",
       "    <tr>\n",
       "      <th>5</th>\n",
       "      <td>lea</td>\n",
       "      <td>femme</td>\n",
       "      <td>10000</td>\n",
       "      <td>informatitienne</td>\n",
       "      <td>5</td>\n",
       "      <td>30</td>\n",
       "    </tr>\n",
       "  </tbody>\n",
       "</table>\n",
       "</div>"
      ],
      "text/plain": [
       "      nom  genre  salaire           metier  aanciennete  age\n",
       "0    marc  homme    10000         jardiner            5   25\n",
       "2  calvin  homme     5000         banquier            1   24\n",
       "4     leo  femme    10000       biologiste            5   30\n",
       "5     lea  femme    10000  informatitienne            5   30"
      ]
     },
     "execution_count": 71,
     "metadata": {},
     "output_type": "execute_result"
    }
   ],
   "source": [
    "df_salaire = df[df['salaire']>0]\n",
    "df_salaire"
   ]
  },
  {
   "cell_type": "code",
   "execution_count": 72,
   "id": "c3c9dcf7",
   "metadata": {},
   "outputs": [
    {
     "data": {
      "text/html": [
       "<div>\n",
       "<style scoped>\n",
       "    .dataframe tbody tr th:only-of-type {\n",
       "        vertical-align: middle;\n",
       "    }\n",
       "\n",
       "    .dataframe tbody tr th {\n",
       "        vertical-align: top;\n",
       "    }\n",
       "\n",
       "    .dataframe thead th {\n",
       "        text-align: right;\n",
       "    }\n",
       "</style>\n",
       "<table border=\"1\" class=\"dataframe\">\n",
       "  <thead>\n",
       "    <tr style=\"text-align: right;\">\n",
       "      <th></th>\n",
       "      <th>nom</th>\n",
       "      <th>genre</th>\n",
       "      <th>salaire</th>\n",
       "      <th>metier</th>\n",
       "      <th>aanciennete</th>\n",
       "      <th>age</th>\n",
       "    </tr>\n",
       "  </thead>\n",
       "  <tbody>\n",
       "    <tr>\n",
       "      <th>4</th>\n",
       "      <td>leo</td>\n",
       "      <td>femme</td>\n",
       "      <td>10000</td>\n",
       "      <td>biologiste</td>\n",
       "      <td>5</td>\n",
       "      <td>30</td>\n",
       "    </tr>\n",
       "    <tr>\n",
       "      <th>5</th>\n",
       "      <td>lea</td>\n",
       "      <td>femme</td>\n",
       "      <td>10000</td>\n",
       "      <td>informatitienne</td>\n",
       "      <td>5</td>\n",
       "      <td>30</td>\n",
       "    </tr>\n",
       "  </tbody>\n",
       "</table>\n",
       "</div>"
      ],
      "text/plain": [
       "   nom  genre  salaire           metier  aanciennete  age\n",
       "4  leo  femme    10000       biologiste            5   30\n",
       "5  lea  femme    10000  informatitienne            5   30"
      ]
     },
     "execution_count": 72,
     "metadata": {},
     "output_type": "execute_result"
    }
   ],
   "source": [
    "df_femme = df[df['genre'] == 'femme']\n",
    "df_femme"
   ]
  },
  {
   "cell_type": "code",
   "execution_count": 73,
   "id": "162d9343",
   "metadata": {},
   "outputs": [
    {
     "data": {
      "text/html": [
       "<div>\n",
       "<style scoped>\n",
       "    .dataframe tbody tr th:only-of-type {\n",
       "        vertical-align: middle;\n",
       "    }\n",
       "\n",
       "    .dataframe tbody tr th {\n",
       "        vertical-align: top;\n",
       "    }\n",
       "\n",
       "    .dataframe thead th {\n",
       "        text-align: right;\n",
       "    }\n",
       "</style>\n",
       "<table border=\"1\" class=\"dataframe\">\n",
       "  <thead>\n",
       "    <tr style=\"text-align: right;\">\n",
       "      <th></th>\n",
       "      <th>nom</th>\n",
       "      <th>genre</th>\n",
       "      <th>salaire</th>\n",
       "      <th>metier</th>\n",
       "      <th>aanciennete</th>\n",
       "      <th>age</th>\n",
       "    </tr>\n",
       "  </thead>\n",
       "  <tbody>\n",
       "    <tr>\n",
       "      <th>0</th>\n",
       "      <td>marc</td>\n",
       "      <td>homme</td>\n",
       "      <td>10000</td>\n",
       "      <td>jardiner</td>\n",
       "      <td>5</td>\n",
       "      <td>25</td>\n",
       "    </tr>\n",
       "    <tr>\n",
       "      <th>2</th>\n",
       "      <td>calvin</td>\n",
       "      <td>homme</td>\n",
       "      <td>5000</td>\n",
       "      <td>banquier</td>\n",
       "      <td>1</td>\n",
       "      <td>24</td>\n",
       "    </tr>\n",
       "  </tbody>\n",
       "</table>\n",
       "</div>"
      ],
      "text/plain": [
       "      nom  genre  salaire    metier  aanciennete  age\n",
       "0    marc  homme    10000  jardiner            5   25\n",
       "2  calvin  homme     5000  banquier            1   24"
      ]
     },
     "execution_count": 73,
     "metadata": {},
     "output_type": "execute_result"
    }
   ],
   "source": [
    "df_homme_0_c_1 = (df['genre']=='homme')\n",
    "df_homme_0_c_2 = (df['salaire']>0)\n",
    "df_homme_0 = df[df_homme_0_c_1  & df_homme_0_c_2]\n",
    "df_homme_0"
   ]
  },
  {
   "cell_type": "code",
   "execution_count": 74,
   "id": "8d3a705b",
   "metadata": {},
   "outputs": [
    {
     "data": {
      "text/html": [
       "<div>\n",
       "<style scoped>\n",
       "    .dataframe tbody tr th:only-of-type {\n",
       "        vertical-align: middle;\n",
       "    }\n",
       "\n",
       "    .dataframe tbody tr th {\n",
       "        vertical-align: top;\n",
       "    }\n",
       "\n",
       "    .dataframe thead th {\n",
       "        text-align: right;\n",
       "    }\n",
       "</style>\n",
       "<table border=\"1\" class=\"dataframe\">\n",
       "  <thead>\n",
       "    <tr style=\"text-align: right;\">\n",
       "      <th></th>\n",
       "      <th>nom</th>\n",
       "      <th>genre</th>\n",
       "      <th>salaire</th>\n",
       "      <th>metier</th>\n",
       "      <th>aanciennete</th>\n",
       "      <th>age</th>\n",
       "    </tr>\n",
       "  </thead>\n",
       "  <tbody>\n",
       "    <tr>\n",
       "      <th>0</th>\n",
       "      <td>marc</td>\n",
       "      <td>homme</td>\n",
       "      <td>10000</td>\n",
       "      <td>jardiner</td>\n",
       "      <td>5</td>\n",
       "      <td>25</td>\n",
       "    </tr>\n",
       "    <tr>\n",
       "      <th>4</th>\n",
       "      <td>leo</td>\n",
       "      <td>femme</td>\n",
       "      <td>10000</td>\n",
       "      <td>biologiste</td>\n",
       "      <td>5</td>\n",
       "      <td>30</td>\n",
       "    </tr>\n",
       "  </tbody>\n",
       "</table>\n",
       "</div>"
      ],
      "text/plain": [
       "    nom  genre  salaire      metier  aanciennete  age\n",
       "0  marc  homme    10000    jardiner            5   25\n",
       "4   leo  femme    10000  biologiste            5   30"
      ]
     },
     "execution_count": 74,
     "metadata": {},
     "output_type": "execute_result"
    }
   ],
   "source": [
    "df_loc_t = df.loc[[0,4]]\n",
    "df_loc_t"
   ]
  },
  {
   "cell_type": "code",
   "execution_count": 75,
   "id": "a0f0948e",
   "metadata": {},
   "outputs": [
    {
     "data": {
      "text/html": [
       "<div>\n",
       "<style scoped>\n",
       "    .dataframe tbody tr th:only-of-type {\n",
       "        vertical-align: middle;\n",
       "    }\n",
       "\n",
       "    .dataframe tbody tr th {\n",
       "        vertical-align: top;\n",
       "    }\n",
       "\n",
       "    .dataframe thead th {\n",
       "        text-align: right;\n",
       "    }\n",
       "</style>\n",
       "<table border=\"1\" class=\"dataframe\">\n",
       "  <thead>\n",
       "    <tr style=\"text-align: right;\">\n",
       "      <th></th>\n",
       "      <th>salaire</th>\n",
       "      <th>aanciennete</th>\n",
       "    </tr>\n",
       "  </thead>\n",
       "  <tbody>\n",
       "    <tr>\n",
       "      <th>1</th>\n",
       "      <td>0</td>\n",
       "      <td>10</td>\n",
       "    </tr>\n",
       "    <tr>\n",
       "      <th>2</th>\n",
       "      <td>5000</td>\n",
       "      <td>1</td>\n",
       "    </tr>\n",
       "    <tr>\n",
       "      <th>3</th>\n",
       "      <td>0</td>\n",
       "      <td>10</td>\n",
       "    </tr>\n",
       "  </tbody>\n",
       "</table>\n",
       "</div>"
      ],
      "text/plain": [
       "   salaire  aanciennete\n",
       "1        0           10\n",
       "2     5000            1\n",
       "3        0           10"
      ]
     },
     "execution_count": 75,
     "metadata": {},
     "output_type": "execute_result"
    }
   ],
   "source": [
    "df_iloc_t = df.iloc[1:4, [2,4]]\n",
    "df_iloc_t"
   ]
  },
  {
   "cell_type": "code",
   "execution_count": 76,
   "id": "0e11ede6",
   "metadata": {},
   "outputs": [
    {
     "data": {
      "text/html": [
       "<div>\n",
       "<style scoped>\n",
       "    .dataframe tbody tr th:only-of-type {\n",
       "        vertical-align: middle;\n",
       "    }\n",
       "\n",
       "    .dataframe tbody tr th {\n",
       "        vertical-align: top;\n",
       "    }\n",
       "\n",
       "    .dataframe thead th {\n",
       "        text-align: right;\n",
       "    }\n",
       "</style>\n",
       "<table border=\"1\" class=\"dataframe\">\n",
       "  <thead>\n",
       "    <tr style=\"text-align: right;\">\n",
       "      <th></th>\n",
       "      <th>salaire</th>\n",
       "      <th>metier</th>\n",
       "      <th>nom</th>\n",
       "    </tr>\n",
       "  </thead>\n",
       "  <tbody>\n",
       "    <tr>\n",
       "      <th>0</th>\n",
       "      <td>10000</td>\n",
       "      <td>jardiner</td>\n",
       "      <td>marc</td>\n",
       "    </tr>\n",
       "    <tr>\n",
       "      <th>1</th>\n",
       "      <td>0</td>\n",
       "      <td>etudiant</td>\n",
       "      <td>gillou</td>\n",
       "    </tr>\n",
       "    <tr>\n",
       "      <th>2</th>\n",
       "      <td>5000</td>\n",
       "      <td>banquier</td>\n",
       "      <td>calvin</td>\n",
       "    </tr>\n",
       "    <tr>\n",
       "      <th>3</th>\n",
       "      <td>0</td>\n",
       "      <td>etudiant</td>\n",
       "      <td>joao</td>\n",
       "    </tr>\n",
       "  </tbody>\n",
       "</table>\n",
       "</div>"
      ],
      "text/plain": [
       "   salaire    metier     nom\n",
       "0    10000  jardiner    marc\n",
       "1        0  etudiant  gillou\n",
       "2     5000  banquier  calvin\n",
       "3        0  etudiant    joao"
      ]
     },
     "execution_count": 76,
     "metadata": {},
     "output_type": "execute_result"
    }
   ],
   "source": [
    "df[df['genre'] == 'homme'][['salaire','metier','nom']]"
   ]
  },
  {
   "cell_type": "code",
   "execution_count": 77,
   "id": "3c1e568b",
   "metadata": {},
   "outputs": [
    {
     "data": {
      "text/html": [
       "<div>\n",
       "<style scoped>\n",
       "    .dataframe tbody tr th:only-of-type {\n",
       "        vertical-align: middle;\n",
       "    }\n",
       "\n",
       "    .dataframe tbody tr th {\n",
       "        vertical-align: top;\n",
       "    }\n",
       "\n",
       "    .dataframe thead th {\n",
       "        text-align: right;\n",
       "    }\n",
       "</style>\n",
       "<table border=\"1\" class=\"dataframe\">\n",
       "  <thead>\n",
       "    <tr style=\"text-align: right;\">\n",
       "      <th></th>\n",
       "      <th>salaire</th>\n",
       "      <th>metier</th>\n",
       "    </tr>\n",
       "  </thead>\n",
       "  <tbody>\n",
       "    <tr>\n",
       "      <th>2</th>\n",
       "      <td>5000</td>\n",
       "      <td>banquier</td>\n",
       "    </tr>\n",
       "  </tbody>\n",
       "</table>\n",
       "</div>"
      ],
      "text/plain": [
       "   salaire    metier\n",
       "2     5000  banquier"
      ]
     },
     "execution_count": 77,
     "metadata": {},
     "output_type": "execute_result"
    }
   ],
   "source": [
    "df.loc[[2],['salaire', 'metier']]"
   ]
  },
  {
   "cell_type": "code",
   "execution_count": 78,
   "id": "f537613b",
   "metadata": {},
   "outputs": [
    {
     "name": "stdout",
     "output_type": "stream",
     "text": [
      "0     True\n",
      "1     True\n",
      "2     True\n",
      "3     True\n",
      "4    False\n",
      "5    False\n",
      "Name: genre, dtype: bool\n"
     ]
    }
   ],
   "source": [
    "print(df['genre']=='homme')"
   ]
  },
  {
   "cell_type": "code",
   "execution_count": 82,
   "id": "d3da6bdc",
   "metadata": {},
   "outputs": [],
   "source": [
    "df.loc[df['genre'] == 'homme','salaire'] = 0\n"
   ]
  },
  {
   "cell_type": "code",
   "execution_count": 83,
   "id": "2cc85daf",
   "metadata": {},
   "outputs": [
    {
     "data": {
      "text/html": [
       "<div>\n",
       "<style scoped>\n",
       "    .dataframe tbody tr th:only-of-type {\n",
       "        vertical-align: middle;\n",
       "    }\n",
       "\n",
       "    .dataframe tbody tr th {\n",
       "        vertical-align: top;\n",
       "    }\n",
       "\n",
       "    .dataframe thead th {\n",
       "        text-align: right;\n",
       "    }\n",
       "</style>\n",
       "<table border=\"1\" class=\"dataframe\">\n",
       "  <thead>\n",
       "    <tr style=\"text-align: right;\">\n",
       "      <th></th>\n",
       "      <th>nom</th>\n",
       "      <th>genre</th>\n",
       "      <th>salaire</th>\n",
       "      <th>metier</th>\n",
       "      <th>aanciennete</th>\n",
       "      <th>age</th>\n",
       "    </tr>\n",
       "  </thead>\n",
       "  <tbody>\n",
       "    <tr>\n",
       "      <th>0</th>\n",
       "      <td>marc</td>\n",
       "      <td>homme</td>\n",
       "      <td>0</td>\n",
       "      <td>jardiner</td>\n",
       "      <td>5</td>\n",
       "      <td>25</td>\n",
       "    </tr>\n",
       "    <tr>\n",
       "      <th>1</th>\n",
       "      <td>gillou</td>\n",
       "      <td>homme</td>\n",
       "      <td>0</td>\n",
       "      <td>etudiant</td>\n",
       "      <td>10</td>\n",
       "      <td>25</td>\n",
       "    </tr>\n",
       "    <tr>\n",
       "      <th>2</th>\n",
       "      <td>calvin</td>\n",
       "      <td>homme</td>\n",
       "      <td>0</td>\n",
       "      <td>banquier</td>\n",
       "      <td>1</td>\n",
       "      <td>24</td>\n",
       "    </tr>\n",
       "    <tr>\n",
       "      <th>3</th>\n",
       "      <td>joao</td>\n",
       "      <td>homme</td>\n",
       "      <td>0</td>\n",
       "      <td>etudiant</td>\n",
       "      <td>10</td>\n",
       "      <td>25</td>\n",
       "    </tr>\n",
       "    <tr>\n",
       "      <th>4</th>\n",
       "      <td>leo</td>\n",
       "      <td>femme</td>\n",
       "      <td>10000</td>\n",
       "      <td>biologiste</td>\n",
       "      <td>5</td>\n",
       "      <td>30</td>\n",
       "    </tr>\n",
       "    <tr>\n",
       "      <th>5</th>\n",
       "      <td>lea</td>\n",
       "      <td>femme</td>\n",
       "      <td>10000</td>\n",
       "      <td>informatitienne</td>\n",
       "      <td>5</td>\n",
       "      <td>30</td>\n",
       "    </tr>\n",
       "  </tbody>\n",
       "</table>\n",
       "</div>"
      ],
      "text/plain": [
       "      nom  genre  salaire           metier  aanciennete  age\n",
       "0    marc  homme        0         jardiner            5   25\n",
       "1  gillou  homme        0         etudiant           10   25\n",
       "2  calvin  homme        0         banquier            1   24\n",
       "3    joao  homme        0         etudiant           10   25\n",
       "4     leo  femme    10000       biologiste            5   30\n",
       "5     lea  femme    10000  informatitienne            5   30"
      ]
     },
     "execution_count": 83,
     "metadata": {},
     "output_type": "execute_result"
    }
   ],
   "source": [
    "df"
   ]
  },
  {
   "cell_type": "code",
   "execution_count": 85,
   "id": "029aebc3",
   "metadata": {},
   "outputs": [
    {
     "name": "stdout",
     "output_type": "stream",
     "text": [
      "genre\n",
      "femme    10000\n",
      "homme        0\n",
      "Name: salaire, dtype: int64\n"
     ]
    }
   ],
   "source": [
    "print(df.groupby('genre')['salaire'].mean())"
   ]
  },
  {
   "cell_type": "code",
   "execution_count": null,
   "id": "78e4f695",
   "metadata": {},
   "outputs": [],
   "source": []
  }
 ],
 "metadata": {
  "kernelspec": {
   "display_name": "Python 3",
   "language": "python",
   "name": "python3"
  },
  "language_info": {
   "codemirror_mode": {
    "name": "ipython",
    "version": 3
   },
   "file_extension": ".py",
   "mimetype": "text/x-python",
   "name": "python",
   "nbconvert_exporter": "python",
   "pygments_lexer": "ipython3",
   "version": "3.8.8"
  }
 },
 "nbformat": 4,
 "nbformat_minor": 5
}
