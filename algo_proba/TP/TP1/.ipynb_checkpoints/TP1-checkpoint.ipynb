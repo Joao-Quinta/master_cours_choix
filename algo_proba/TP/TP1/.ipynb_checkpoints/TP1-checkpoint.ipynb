{
 "cells": [
  {
   "cell_type": "markdown",
   "id": "cf11e477",
   "metadata": {},
   "source": [
    "The goal of this TP is to create random number denerators, and evaluate their radomness quality."
   ]
  },
  {
   "cell_type": "code",
   "execution_count": 2,
   "id": "c0a6a254",
   "metadata": {},
   "outputs": [
    {
     "ename": "ModuleNotFoundError",
     "evalue": "No module named 'random.txt'; 'random' is not a package",
     "output_type": "error",
     "traceback": [
      "\u001b[0;31m---------------------------------------------------------------------------\u001b[0m",
      "\u001b[0;31mModuleNotFoundError\u001b[0m                       Traceback (most recent call last)",
      "\u001b[0;32m/tmp/ipykernel_4282/329640212.py\u001b[0m in \u001b[0;36m<module>\u001b[0;34m\u001b[0m\n\u001b[1;32m      3\u001b[0m \u001b[0;32mimport\u001b[0m \u001b[0mnumpy\u001b[0m \u001b[0;32mas\u001b[0m \u001b[0mnp\u001b[0m\u001b[0;34m\u001b[0m\u001b[0;34m\u001b[0m\u001b[0m\n\u001b[1;32m      4\u001b[0m \u001b[0;32mimport\u001b[0m \u001b[0mmatplotlib\u001b[0m\u001b[0;34m.\u001b[0m\u001b[0mpyplot\u001b[0m \u001b[0;32mas\u001b[0m \u001b[0mplt\u001b[0m\u001b[0;34m\u001b[0m\u001b[0;34m\u001b[0m\u001b[0m\n\u001b[0;32m----> 5\u001b[0;31m \u001b[0;32mimport\u001b[0m \u001b[0mrandom\u001b[0m\u001b[0;34m.\u001b[0m\u001b[0mtxt\u001b[0m \u001b[0;32mas\u001b[0m \u001b[0mseed\u001b[0m\u001b[0;34m\u001b[0m\u001b[0;34m\u001b[0m\u001b[0m\n\u001b[0m\u001b[1;32m      6\u001b[0m \u001b[0;31m#import algorithmK.py as alK\u001b[0m\u001b[0;34m\u001b[0m\u001b[0;34m\u001b[0m\u001b[0m\n",
      "\u001b[0;31mModuleNotFoundError\u001b[0m: No module named 'random.txt'; 'random' is not a package"
     ]
    }
   ],
   "source": [
    "import math\n",
    "import random\n",
    "import numpy as np\n",
    "import matplotlib.pyplot as plt\n",
    "\n",
    "#import algorithmK.py as alK"
   ]
  },
  {
   "cell_type": "markdown",
   "id": "bee7a79c",
   "metadata": {},
   "source": [
    "The first one we will implement is the K-algorithm seen in the TP session"
   ]
  },
  {
   "cell_type": "code",
   "execution_count": 3,
   "id": "328f7b64",
   "metadata": {},
   "outputs": [],
   "source": [
    "### k algorithm\n",
    "\n",
    "def k1(X):\n",
    "    Y = math.floor(X / (10 ** 9))\n",
    "    return Y + 1\n",
    "\n",
    "def k2(X):\n",
    "    Z = math.floor(X / (10 ** 9)) % 10\n",
    "    return 3 + Z\n",
    "\n",
    "def k3(X):\n",
    "    if X < 5000000000:\n",
    "        X = X + 5000000000\n",
    "    return X\n",
    "\n",
    "def k4(X):\n",
    "    X = math.floor((X ** 2) / (10 ** 5)) % (10 ** 10)\n",
    "    return X\n",
    "\n",
    "def k5(X):\n",
    "    X = (1001001001 * X) % (10 ** 10)\n",
    "    return X\n",
    "\n",
    "def k6(X):\n",
    "    if X < 100000000:\n",
    "        X = X + 9814055677\n",
    "    else:\n",
    "        X = (10 ** 10) - X\n",
    "    return X\n",
    "\n",
    "def k7(X):\n",
    "    X = str(X)\n",
    "    while len(X) < 10:\n",
    "        X = \"0\" + X\n",
    "    X = X[6:] + X[0:5]\n",
    "    return int(X)\n",
    "\n",
    "def k8(X):\n",
    "    return k5(X)\n",
    "\n",
    "def k9(X):\n",
    "    X = list(str(X))\n",
    "    for i in range(len(X)):\n",
    "        if X[i] != \"0\":\n",
    "            v = str(int(X[i])-1)\n",
    "            X[i] = v\n",
    "    return int(''.join(X))\n",
    "\n",
    "def k10(X):\n",
    "    if X < (10**5):\n",
    "        X = X**2 + 99999\n",
    "    else:\n",
    "        X = X - 99999\n",
    "    return X\n",
    "\n",
    "def k11(X):\n",
    "    for i in range(2):\n",
    "        if X < 10**9:\n",
    "            X = 10 * X\n",
    "    return X\n",
    "\n",
    "def k12(X):\n",
    "    X = math.floor(X*X-1/(10**5)) % (10**10)\n",
    "    return X\n",
    "\n",
    "def main(X):\n",
    "    Y = k1(X)\n",
    "    j = 2\n",
    "    for i in range(Y):\n",
    "        if j == 2:\n",
    "            X = k2(X)\n",
    "            j = X + 3\n",
    "        elif j == 3:\n",
    "            X = k3(X)\n",
    "            j = j + 1\n",
    "        elif j == 4:\n",
    "            X = k4(X)\n",
    "            j = j + 1\n",
    "        elif j == 5:\n",
    "            X = k5(X)\n",
    "            j = j + 1\n",
    "        elif j == 6:\n",
    "            X = k6(X)\n",
    "            j = j + 1\n",
    "        elif j == 7:\n",
    "            X = k7(X)\n",
    "            j = j + 1\n",
    "        elif j == 8:\n",
    "            X = k8(X)\n",
    "            j = j + 1\n",
    "        elif j == 9:\n",
    "            X = k9(X)\n",
    "            j = j + 1\n",
    "        elif j == 10:\n",
    "            X = k10(X)\n",
    "            j = j + 1\n",
    "        elif j == 11:\n",
    "            X = k11(X)\n",
    "            j = j + 1\n",
    "        elif j == 12:\n",
    "            X = k12(X)\n",
    "            j = 2\n",
    "    return X"
   ]
  },
  {
   "cell_type": "markdown",
   "id": "32aa12b1",
   "metadata": {},
   "source": [
    "The second one is any linear congruential generator\n",
    "\n",
    "A linear congruential generator is a iterative function of type: $X_i =(a×X_{i−1}+c)\\ mod\\ m$\n",
    "\n",
    "$X_0$ is called the seed value\n",
    "\n",
    "In this case the variables will be set to the follwing values:\n",
    "$\\newline$\n",
    "a = 1664525,\n",
    "m = $2^{32}$,\n",
    "c = 1013904223\n"
   ]
  },
  {
   "cell_type": "code",
   "execution_count": 4,
   "id": "712b3a3c",
   "metadata": {},
   "outputs": [],
   "source": [
    "### linear congruentil generator\n",
    "\n",
    "def LCG(x, a, c, m):\n",
    "    x = x % m\n",
    "    vals = []\n",
    "    for i in range(1000):\n",
    "        x = (a*x + c) % m\n",
    "        vals.append(x)\n",
    "    return vals[-1]\n"
   ]
  },
  {
   "cell_type": "markdown",
   "id": "5ce2300d",
   "metadata": {},
   "source": [
    "The third and final one is an algorithm made by me"
   ]
  },
  {
   "cell_type": "code",
   "execution_count": 5,
   "id": "3f469137",
   "metadata": {},
   "outputs": [],
   "source": [
    "### algorithm made by me\n",
    "\n",
    "def algo(x,m,it):\n",
    "    vals = [x%m]\n",
    "    for i in range(it):\n",
    "        if x % 2 == 0:\n",
    "            x = abs(vals[-1] * x) % m\n",
    "        else:\n",
    "            x = abs(vals[-1] + x) % m\n",
    "        vals.append(x)\n",
    "    return vals[-1]"
   ]
  },
  {
   "cell_type": "code",
   "execution_count": 6,
   "id": "fd2f9ba6",
   "metadata": {},
   "outputs": [],
   "source": [
    "### compute 100 random numbers using random library from py to use as seed values\n",
    "\n",
    "seeds = []\n",
    "\n",
    "for i in range(10000):\n",
    "    x = math.floor(random.random() * 1000000000000)\n",
    "    seeds.append(x)\n"
   ]
  },
  {
   "cell_type": "code",
   "execution_count": 18,
   "id": "add3c609",
   "metadata": {},
   "outputs": [],
   "source": [
    "### use seed values to compute 1000 random vaues using all three algorithms\n",
    "\n",
    "randomValues1 = []\n",
    "randomValues2 = []\n",
    "randomValues3 = []\n",
    "for i in range(len(seeds)):\n",
    "    #rv1 = LCG(seeds[i], 1664525, 1013904223, 2**32)\n",
    "    #print(\"seed : \", seeds[i], \" -- val : \", rv1)\n",
    "    randomValues1.append(main(seeds[i]))\n",
    "    randomValues2.append(LCG(seeds[i], 1664525, 1013904223, 2**32))\n",
    "    randomValues3.append(algo(seeds[i], 2**32, 10000))\n"
   ]
  },
  {
   "cell_type": "code",
   "execution_count": 19,
   "id": "9af0f367",
   "metadata": {},
   "outputs": [
    {
     "data": {
      "image/png": "[encoded data removed]",
      "text/plain": [
       "<Figure size 432x288 with 1 Axes>"
      ]
     },
     "metadata": {
      "needs_background": "light"
     },
     "output_type": "display_data"
    }
   ],
   "source": [
    "plt.hist(randomValues1, bins='auto')\n",
    "plt.show()"
   ]
  },
  {
   "cell_type": "code",
   "execution_count": 20,
   "id": "a6a136d3",
   "metadata": {},
   "outputs": [
    {
     "data": {
      "image/png": "[encoded data removed]",
      "text/plain": [
       "<Figure size 432x288 with 1 Axes>"
      ]
     },
     "metadata": {
      "needs_background": "light"
     },
     "output_type": "display_data"
    }
   ],
   "source": [
    "plt.hist(randomValues2, bins='auto')\n",
    "plt.show()"
   ]
  },
  {
   "cell_type": "code",
   "execution_count": 23,
   "id": "1387be30",
   "metadata": {},
   "outputs": [
    {
     "data": {
      "image/png": "[encoded data removed]",
      "text/plain": [
       "<Figure size 432x288 with 1 Axes>"
      ]
     },
     "metadata": {
      "needs_background": "light"
     },
     "output_type": "display_data"
    }
   ],
   "source": [
    "plt.hist(randomValues3, bins='auto')\n",
    "plt.show()"
   ]
  },
  {
   "cell_type": "code",
   "execution_count": null,
   "id": "48264dac",
   "metadata": {},
   "outputs": [],
   "source": []
  }
 ],
 "metadata": {
  "kernelspec": {
   "display_name": "Python 3 (ipykernel)",
   "language": "python",
   "name": "python3"
  },
  "language_info": {
   "codemirror_mode": {
    "name": "ipython",
    "version": 3
   },
   "file_extension": ".py",
   "mimetype": "text/x-python",
   "name": "python",
   "nbconvert_exporter": "python",
   "pygments_lexer": "ipython3",
   "version": "3.9.7"
  }
 },
 "nbformat": 4,
 "nbformat_minor": 5
}
