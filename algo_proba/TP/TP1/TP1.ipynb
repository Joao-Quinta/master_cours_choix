{
 "cells": [
  {
   "cell_type": "markdown",
   "id": "cf11e477",
   "metadata": {},
   "source": [
    "The goal of this TP is to create random number denerators, and evaluate their radomness quality."
   ]
  },
  {
   "cell_type": "code",
   "execution_count": 46,
   "id": "c0a6a254",
   "metadata": {},
   "outputs": [],
   "source": [
    "import math\n",
    "import random\n",
    "import numpy as np\n",
    "import matplotlib.pyplot as plt\n",
    "import time\n",
    "\n",
    "#import algorithmK.py as alK"
   ]
  },
  {
   "cell_type": "markdown",
   "id": "bee7a79c",
   "metadata": {},
   "source": [
    "The first one we will implement is the K-algorithm seen in the TP session"
   ]
  },
  {
   "cell_type": "code",
   "execution_count": 47,
   "id": "328f7b64",
   "metadata": {},
   "outputs": [],
   "source": [
    "### k algorithm\n",
    "\n",
    "def k1(X):\n",
    "    Y = int(X / (10 ** 9))\n",
    "    return int(Y + 1)\n",
    "\n",
    "def k2(X):\n",
    "    Z = math.floor(X / (10 ** 8)) % 10\n",
    "    return int(3 + Z)\n",
    "\n",
    "def k3(X):\n",
    "    if X < 5 * 10**9:\n",
    "        X = X + 5 * 10**9\n",
    "    return int(X)\n",
    "\n",
    "def k4(X):\n",
    "    X = int((X ** 2) / (10 ** 5)) % (10 ** 10)\n",
    "    return int(X)\n",
    "\n",
    "def k5(X):\n",
    "    X = (1001001001 * X) % (10 ** 10)\n",
    "    return int(X)\n",
    "\n",
    "def k6(X):\n",
    "    if X < 100000000:\n",
    "        X = X + 9814055677\n",
    "    else:\n",
    "        X = (10 ** 10) - X\n",
    "    return int(X)\n",
    "\n",
    "def k7(X):\n",
    "    X = (10**5)*(X % (10**5))+ int(X/(10**5))\n",
    "    return int(X)\n",
    "\n",
    "def k8(X):\n",
    "    return k5(X)\n",
    "\n",
    "def k9(X):\n",
    "    X = list(str(X))\n",
    "    for i in range(len(X)):\n",
    "        if X[i] != \"0\":\n",
    "            v = str(int(X[i])-1)\n",
    "            X[i] = v\n",
    "    return int(''.join(X))\n",
    "\n",
    "def k10(X):\n",
    "    if X < (10**5):\n",
    "        X = X**2 + 99999\n",
    "    else:\n",
    "        X = X - 99999\n",
    "    return int(X)\n",
    "\n",
    "def k11(X):\n",
    "    for i in range(2):\n",
    "        if X < 10**9:\n",
    "            X = 10 * X\n",
    "    return int(X)\n",
    "\n",
    "def k12(X):\n",
    "    X = int(X*X-1/(10**5)) % (10**10)\n",
    "    return int(X)\n",
    "\n",
    "def main(X):\n",
    "    Y = k1(X)\n",
    "    for i in range(Y):\n",
    "        j = 2\n",
    "        while j < 13:\n",
    "            if j == 2:\n",
    "                Z = k2(X)\n",
    "                j = Z + 3\n",
    "            elif j == 3:\n",
    "                X = k3(X)\n",
    "                j = j + 1\n",
    "            elif j == 4:\n",
    "                X = k4(X)\n",
    "                j = j + 1\n",
    "            elif j == 5:\n",
    "                X = k5(X)\n",
    "                j = j + 1\n",
    "            elif j == 6:\n",
    "                X = k6(X)\n",
    "                j = j + 1\n",
    "            elif j == 7:\n",
    "                X = k7(X)\n",
    "                j = j + 1\n",
    "            elif j == 8:\n",
    "                X = k8(X)\n",
    "                j = j + 1\n",
    "            elif j == 9:\n",
    "                X = k9(X)\n",
    "                j = j + 1\n",
    "            elif j == 10:\n",
    "                X = k10(X)\n",
    "                j = j + 1\n",
    "            elif j == 11:\n",
    "                X = k11(X)\n",
    "                j = j + 1\n",
    "            elif j == 12:\n",
    "                X = k12(X)\n",
    "                j = 13\n",
    "    return X"
   ]
  },
  {
   "cell_type": "markdown",
   "id": "32aa12b1",
   "metadata": {},
   "source": [
    "The second one is any linear congruential generator\n",
    "\n",
    "A linear congruential generator is a iterative function of type: $X_i =(a×X_{i−1}+c)\\ mod\\ m$\n",
    "\n",
    "$X_0$ is called the seed value\n",
    "\n",
    "In this case the variables will be set to the follwing values:\n",
    "$\\newline$\n",
    "a = 1664525,\n",
    "m = $2^{32}$,\n",
    "c = 1013904223\n"
   ]
  },
  {
   "cell_type": "code",
   "execution_count": 48,
   "id": "712b3a3c",
   "metadata": {},
   "outputs": [],
   "source": [
    "### linear congruentil generator\n",
    "\n",
    "def LCG(x, a, c, m):\n",
    "    x = x % m\n",
    "    for i in range(1000):\n",
    "        x = (a*x + c) % m\n",
    "    return x, 1000\n"
   ]
  },
  {
   "cell_type": "markdown",
   "id": "5ce2300d",
   "metadata": {},
   "source": [
    "The third and final one is an algorithm made by me"
   ]
  },
  {
   "cell_type": "code",
   "execution_count": 49,
   "id": "3f469137",
   "metadata": {},
   "outputs": [],
   "source": [
    "### algorithm made by me\n",
    "\n",
    "def it_algo(X):\n",
    "    return X % 90\n",
    "    \n",
    "def algo(X):\n",
    "    it = it_algo(X)\n",
    "    i = 0\n",
    "    m = 10**10\n",
    "    while i < it:\n",
    "        X = int(X*X-1/(10**5)) % (10**10)\n",
    "        X = abs(X**2 - X**3)\n",
    "        X = abs(X - i)\n",
    "        X = X % m\n",
    "        i = i + 1\n",
    "    return X\n",
    "    "
   ]
  },
  {
   "cell_type": "code",
   "execution_count": 50,
   "id": "fd2f9ba6",
   "metadata": {},
   "outputs": [],
   "source": [
    "### compute 100 random numbers using random library from py to use as seed values\n",
    "\n",
    "seeds = []\n",
    "\n",
    "with open(\"random250.txt\") as f:\n",
    "    lines = f.readlines()\n",
    "    for i in range(len(lines)):\n",
    "        seeds.append(int(lines[i][:-1]))\n",
    "\n"
   ]
  },
  {
   "cell_type": "code",
   "execution_count": 63,
   "id": "add3c609",
   "metadata": {},
   "outputs": [],
   "source": [
    "### use seed values to compute 1000 random vaues using all three algorithms\n",
    "\n",
    "randomValues1 = []\n",
    "randomValues2 = []\n",
    "randomValues2Period = []\n",
    "randomValues3 = []\n",
    "randomValues1Time = []\n",
    "randomValues2Time = []\n",
    "randomValues3Time = []\n",
    "for i in range(len(seeds)):\n",
    "    \n",
    "    # generate random values with k algo and timing it \n",
    "    preRandom1C = time.time()\n",
    "    randomValues1.append(main(seeds[i]))\n",
    "    postRandom1C = time.time()\n",
    "    randomValues1Time.append(postRandom1C-preRandom1C)\n",
    "    \n",
    "    # generate random values with 2nd algo and timing it \n",
    "    preRandom2C = time.time()\n",
    "    randomVal2 = LCG(seeds[i], 1664525, 1013904223, 2**32)\n",
    "    postRandom2C = time.time()\n",
    "    randomValues2Time.append(postRandom2C-preRandom2C)\n",
    "    randomValues2.append(randomVal2[0])\n",
    "    randomValues2Period.append(randomVal2[1])\n",
    "    \n",
    "    # generate random values with my algo and timing it \n",
    "    preRandom3C = time.time()\n",
    "    randomValues3.append(algo(seeds[i]))\n",
    "    postRandom3C = time.time()\n",
    "    randomValues3Time.append(postRandom3C-preRandom3C)\n",
    "\n"
   ]
  },
  {
   "cell_type": "code",
   "execution_count": 64,
   "id": "9af0f367",
   "metadata": {},
   "outputs": [
    {
     "data": {
      "image/png": "[encoded data removed]",
      "text/plain": [
       "<Figure size 432x288 with 1 Axes>"
      ]
     },
     "metadata": {
      "needs_background": "light"
     },
     "output_type": "display_data"
    }
   ],
   "source": [
    "plt.hist(randomValues1, bins=10)\n",
    "plt.show()"
   ]
  },
  {
   "cell_type": "markdown",
   "id": "566bdfe6",
   "metadata": {},
   "source": [
    "It was very difficult to create an actual graph that plotted a point for each seed and its corresponding random value, since the range of seeds is too large.<br>\n",
    "min(seeds) = 545, max(seeds) = 65415.<br>\n",
    "The same can be said for the random values generated by the seeds.<br>\n",
    "min(random) = 10674176, max(random) = 9991737344$\\newline$\n",
    "\n",
    "My solution was to compute np.unique() of the random values generated, this way we can see how many overlaps/colisions were found"
   ]
  },
  {
   "cell_type": "code",
   "execution_count": 65,
   "id": "85d95d7a",
   "metadata": {},
   "outputs": [
    {
     "name": "stdout",
     "output_type": "stream",
     "text": [
      "There were 250 seeds\n",
      "Number of values generated :  250\n",
      "Number of unique values generated :  248\n"
     ]
    }
   ],
   "source": [
    "print(\"There were 250 seeds\")\n",
    "print(\"Number of values generated : \",len(randomValues1))\n",
    "print(\"Number of unique values generated : \",len(np.unique(randomValues1)))"
   ]
  },
  {
   "cell_type": "markdown",
   "id": "d9f541e6",
   "metadata": {},
   "source": [
    "As we can see, there were 2 repeated generated values. That is a 0.008% collision rate for our seed values."
   ]
  },
  {
   "cell_type": "code",
   "execution_count": 66,
   "id": "a6a136d3",
   "metadata": {},
   "outputs": [
    {
     "data": {
      "image/png": "[encoded data removed]",
      "text/plain": [
       "<Figure size 432x288 with 1 Axes>"
      ]
     },
     "metadata": {
      "needs_background": "light"
     },
     "output_type": "display_data"
    }
   ],
   "source": [
    "plt.hist(randomValues2, bins='auto')\n",
    "plt.show()"
   ]
  },
  {
   "cell_type": "markdown",
   "id": "98323307",
   "metadata": {},
   "source": [
    "The same problem as before was verified, the seed values have the same range as before, however the generated values range from:<br>\n",
    "min(random) = 14222108, max(random) = 4235818127.$\\newline$\n",
    "\n",
    "My solution was again to compute np.unique() of the random values generated, this way we can see how many overlaps/colisions were found"
   ]
  },
  {
   "cell_type": "code",
   "execution_count": 67,
   "id": "71364abe",
   "metadata": {},
   "outputs": [
    {
     "name": "stdout",
     "output_type": "stream",
     "text": [
      "There were 250 seeds\n",
      "Number of values generated :  250\n",
      "Number of unique values generated :  248\n"
     ]
    }
   ],
   "source": [
    "print(\"There were 250 seeds\")\n",
    "print(\"Number of values generated : \",len(randomValues2))\n",
    "print(\"Number of unique values generated : \",len(np.unique(randomValues2)))"
   ]
  },
  {
   "cell_type": "markdown",
   "id": "4bea5e7e",
   "metadata": {},
   "source": [
    "As we can see, there were 2 repeated generated values. That is a 0.008% collision rate for our seed values."
   ]
  },
  {
   "cell_type": "markdown",
   "id": "f0dcc7b0",
   "metadata": {},
   "source": [
    "I admit I am very surpised we got collisions with only 250 seed values, since my value m is very large.$\\newline$\n",
    "We have to also consider the period of the computations, however because m values is so large, even with 10000 iterations, there were nevery any periods found for non of the seed values."
   ]
  },
  {
   "cell_type": "code",
   "execution_count": 68,
   "id": "1387be30",
   "metadata": {},
   "outputs": [
    {
     "data": {
      "image/png": "[encoded data removed]",
      "text/plain": [
       "<Figure size 432x288 with 1 Axes>"
      ]
     },
     "metadata": {
      "needs_background": "light"
     },
     "output_type": "display_data"
    }
   ],
   "source": [
    "plt.hist(randomValues3, bins='auto')\n",
    "plt.show()"
   ]
  },
  {
   "cell_type": "code",
   "execution_count": 69,
   "id": "48264dac",
   "metadata": {},
   "outputs": [
    {
     "name": "stdout",
     "output_type": "stream",
     "text": [
      "There were 250 seeds\n",
      "Number of values generated :  250\n",
      "Number of unique values generated :  213\n"
     ]
    }
   ],
   "source": [
    "print(\"There were 250 seeds\")\n",
    "print(\"Number of values generated : \",len(randomValues3))\n",
    "print(\"Number of unique values generated : \",len(np.unique(randomValues3)))"
   ]
  },
  {
   "cell_type": "markdown",
   "id": "9060f0cf",
   "metadata": {},
   "source": [
    "Finally we must consider the time spent by each function to generate a random value:"
   ]
  },
  {
   "cell_type": "code",
   "execution_count": 70,
   "id": "403089c9",
   "metadata": {},
   "outputs": [
    {
     "name": "stdout",
     "output_type": "stream",
     "text": [
      "avg computation time for algo 1:  2.3800849914550782e-05\n",
      "avg computation time for algo 2:  0.00021628379821777343\n",
      "avg computation time for algo 3:  5.7511329650878906e-05\n"
     ]
    }
   ],
   "source": [
    "avg1 = 0\n",
    "avg2 = 0\n",
    "avg3 = 0\n",
    "for i in range(len(randomValues1Time)):\n",
    "    avg1 = avg1 + randomValues1Time[i]\n",
    "    avg2 = avg2 + randomValues2Time[i]\n",
    "    avg3 = avg3 + randomValues3Time[i]\n",
    "\n",
    "avg1 = avg1/250\n",
    "avg2 = avg2/250\n",
    "avg3 = avg3/250\n",
    "\n",
    "print(\"avg computation time for algo 1: \", avg1)\n",
    "print(\"avg computation time for algo 2: \", avg2)\n",
    "print(\"avg computation time for algo 3: \", avg3)"
   ]
  },
  {
   "cell_type": "code",
   "execution_count": null,
   "id": "283679d0",
   "metadata": {},
   "outputs": [],
   "source": []
  }
 ],
 "metadata": {
  "kernelspec": {
   "display_name": "Python 3",
   "language": "python",
   "name": "python3"
  },
  "language_info": {
   "codemirror_mode": {
    "name": "ipython",
    "version": 3
   },
   "file_extension": ".py",
   "mimetype": "text/x-python",
   "name": "python",
   "nbconvert_exporter": "python",
   "pygments_lexer": "ipython3",
   "version": "3.8.8"
  }
 },
 "nbformat": 4,
 "nbformat_minor": 5
}
