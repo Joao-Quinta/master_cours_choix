{
 "cells": [
  {
   "cell_type": "code",
   "execution_count": 1,
   "id": "033ae6be",
   "metadata": {},
   "outputs": [
    {
     "name": "stdout",
     "output_type": "stream",
     "text": [
      "imports done\n"
     ]
    }
   ],
   "source": [
    "import math\n",
    "import random\n",
    "import numpy as np\n",
    "import matplotlib.pyplot as plt\n",
    "import time\n",
    "import networkx as nx\n",
    "\n",
    "print(\"imports done\")"
   ]
  },
  {
   "cell_type": "code",
   "execution_count": 2,
   "id": "f6b6cab2",
   "metadata": {},
   "outputs": [],
   "source": [
    "def parseGraph(nameFilePath):\n",
    "    graphMinCut = []\n",
    "    graphVertices = []\n",
    "    graphEdges = []\n",
    "    with open(nameFilePath) as f:\n",
    "        lines = f.readlines()\n",
    "        minCutLen = int(lines[0][:-1].split()[-1])\n",
    "        for i in range(1,1+minCutLen):\n",
    "            graphMinCut.append(lines[i][:-1])\n",
    "        numberVertices = int(lines[1+minCutLen][:-1].split()[-1])\n",
    "        for i in range(1 + 1 + minCutLen, 1 + 1 + minCutLen + numberVertices):\n",
    "            graphVertices.append(lines[i][:-1])\n",
    "        numberEdges = int(lines[1+minCutLen+1+numberVertices][:-1].split()[-1])\n",
    "        for i in range(1+minCutLen+1+1+numberVertices, 1+minCutLen+1+1+numberVertices + numberEdges):\n",
    "            graphEdges.append(lines[i][:-1])\n",
    "    return graphMinCut, graphVertices, graphEdges\n",
    "      \n",
    "def createRandomGraph(n):\n",
    "    G = nx.Graph()\n",
    "    G1 = nx.Graph()\n",
    "    for i in range(n):\n",
    "        G.add_node(str(i))\n",
    "        G1.add_node(str(i))\n",
    "    for i in range(n):\n",
    "        for j in range(i+1,n):\n",
    "            if math.floor(random.random()*2) == 1:\n",
    "                G.add_edge(str(i),str(j))\n",
    "                G1.add_edge(str(i),str(j))\n",
    "    return G, G1\n",
    "\n",
    "def contraction(graph, node_1, node_2):\n",
    "    print(graph, node_1, node_2)\n",
    "    new_node = node_1+\"_\"+node_2\n",
    "    graph.add_node(new_node)\n",
    "    for edge in graph.edges:\n",
    "        x,y = edge\n",
    "        if (x == node_1 or y == node_1) and (x == node_2 or y == node_2):\n",
    "            # they are both in the edge\n",
    "            graph.remove_edge(x,y)\n",
    "        elif (x == node_1 or x == node_2):\n",
    "            graph.remove_edge(x,y)\n",
    "            graph.add_edge(y,new_node)\n",
    "        elif (y == node_1 or y == node_2):\n",
    "            graph.remove_edge(x,y)\n",
    "            graph.add_edge(x,new_node)\n",
    "    graph.remove_node(node_1)\n",
    "    graph.remove_node(node_2)\n",
    "    return graph\n",
    "\n",
    "\n",
    "def makeCut(originalGraph, contractedGraph):\n",
    "    for edge in contractedGraph.edges:\n",
    "        node1, node2 = edge\n",
    "    lenCut = 0\n",
    "    node1 = node1.split('_')\n",
    "    print(node1)\n",
    "    node2 = node2.split('_')\n",
    "    print(node2)\n",
    "    for i in node1:\n",
    "        for j in node2:\n",
    "            if (i,j) in originalGraph.edges:\n",
    "                originalGraph.remove_edge(i,j)\n",
    "                lenCut = lenCut + 1\n",
    "            elif (j,i) in originalGraph.edges:\n",
    "                originalGraph.remove_edge(j,i)\n",
    "                lenCut = lenCut + 1\n",
    "    return originalGraph, lenCut\n",
    "\n"
   ]
  },
  {
   "cell_type": "code",
   "execution_count": 3,
   "id": "88583297",
   "metadata": {},
   "outputs": [],
   "source": [
    "G,G_original = createRandomGraph(5)"
   ]
  }
 ],
 "metadata": {
  "kernelspec": {
   "display_name": "Python 3",
   "language": "python",
   "name": "python3"
  },
  "language_info": {
   "codemirror_mode": {
    "name": "ipython",
    "version": 3
   },
   "file_extension": ".py",
   "mimetype": "text/x-python",
   "name": "python",
   "nbconvert_exporter": "python",
   "pygments_lexer": "ipython3",
   "version": "3.9.7"
  }
 },
 "nbformat": 4,
 "nbformat_minor": 5
}
