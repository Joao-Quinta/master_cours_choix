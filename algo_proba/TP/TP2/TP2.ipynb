{
 "cells": [
  {
   "cell_type": "code",
   "execution_count": 20,
   "id": "033ae6be",
   "metadata": {},
   "outputs": [
    {
     "name": "stdout",
     "output_type": "stream",
     "text": [
      "imports done\n"
     ]
    }
   ],
   "source": [
    "import math\n",
    "import random\n",
    "import numpy as np\n",
    "import matplotlib.pyplot as plt\n",
    "import time\n",
    "import networkx as nx\n",
    "\n",
    "print(\"imports done\")"
   ]
  },
  {
   "cell_type": "code",
   "execution_count": 21,
   "id": "f6b6cab2",
   "metadata": {},
   "outputs": [],
   "source": [
    "def parseGraph(nameFilePath):\n",
    "    graphMinCut = []\n",
    "    graphVertices = []\n",
    "    graphEdges = []\n",
    "    with open(nameFilePath) as f:\n",
    "        lines = f.readlines()\n",
    "        minCutLen = int(lines[0][:-1].split()[-1])\n",
    "        for i in range(1,1+minCutLen):\n",
    "            graphMinCut.append(lines[i][:-1])\n",
    "        numberVertices = int(lines[1+minCutLen][:-1].split()[-1])\n",
    "        for i in range(1 + 1 + minCutLen, 1 + 1 + minCutLen + numberVertices):\n",
    "            graphVertices.append(lines[i][:-1])\n",
    "        numberEdges = int(lines[1+minCutLen+1+numberVertices][:-1].split()[-1])\n",
    "        for i in range(1+minCutLen+1+1+numberVertices, 1+minCutLen+1+1+numberVertices + numberEdges):\n",
    "            graphEdges.append(lines[i][:-1])\n",
    "    return graphMinCut, graphVertices, graphEdges\n",
    "\n",
    "        \n",
    "def createRandomGraph(n):\n",
    "    G = nx.Graph()\n",
    "    for i in range(n):\n",
    "        G.add_node(i)\n",
    "    for i in range(n):\n",
    "        for j in range(i+1,n):\n",
    "            if math.floor(random.random()*2) == 1:\n",
    "                G.add_edge(i,j)\n",
    "    return G"
   ]
  },
  {
   "cell_type": "code",
   "execution_count": 24,
   "id": "88583297",
   "metadata": {},
   "outputs": [
    {
     "data": {
      "image/png": "[encoded data removed]",
      "text/plain": [
       "<Figure size 432x288 with 1 Axes>"
      ]
     },
     "metadata": {},
     "output_type": "display_data"
    }
   ],
   "source": [
    "nx.draw(createRandomGraph(5), with_labels=True, font_weight='bold')"
   ]
  }
 ],
 "metadata": {
  "kernelspec": {
   "display_name": "Python 3",
   "language": "python",
   "name": "python3"
  },
  "language_info": {
   "codemirror_mode": {
    "name": "ipython",
    "version": 3
   },
   "file_extension": ".py",
   "mimetype": "text/x-python",
   "name": "python",
   "nbconvert_exporter": "python",
   "pygments_lexer": "ipython3",
   "version": "3.9.7"
  }
 },
 "nbformat": 4,
 "nbformat_minor": 5
}
