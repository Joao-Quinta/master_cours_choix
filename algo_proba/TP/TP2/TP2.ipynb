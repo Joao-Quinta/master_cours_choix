{
 "cells": [
  {
   "cell_type": "code",
   "execution_count": 23,
   "id": "033ae6be",
   "metadata": {},
   "outputs": [],
   "source": [
    "import math\n",
    "import random\n",
    "import numpy as np\n",
    "import matplotlib.pyplot as plt\n",
    "import time\n"
   ]
  },
  {
   "cell_type": "code",
   "execution_count": 24,
   "id": "f6b6cab2",
   "metadata": {},
   "outputs": [],
   "source": [
    "def parseGraph(nameFilePath):\n",
    "    graphMinCut = []\n",
    "    graphVertices = []\n",
    "    graphEdges = []\n",
    "    with open(nameFilePath) as f:\n",
    "        lines = f.readlines()\n",
    "        minCutLen = int(lines[0][:-1].split()[-1])\n",
    "        for i in range(1,1+minCutLen):\n",
    "            graphMinCut.append(lines[i][:-1])\n",
    "        numberVertices = int(lines[1+minCutLen][:-1].split()[-1])\n",
    "        for i in range(1 + 1 + minCutLen, 1 + 1 + minCutLen + numberVertices):\n",
    "            graphVertices.append(lines[i][:-1])\n",
    "        numberEdges = int(lines[1+minCutLen+1+numberVertices][:-1].split()[-1])\n",
    "        for i in range(1+minCutLen+1+1+numberVertices, 1+minCutLen+1+1+numberVertices + numberEdges):\n",
    "            graphEdges.append(lines[i][:-1])\n",
    "    return graphMinCut, graphVertices, graphEdges\n",
    "\n",
    "        \n"
   ]
  },
  {
   "cell_type": "code",
   "execution_count": 25,
   "id": "a81259b6",
   "metadata": {},
   "outputs": [],
   "source": [
    "graph8 = parseGraph(\"Graphs/g_8.txt\")"
   ]
  },
  {
   "cell_type": "code",
   "execution_count": null,
   "id": "a44f87c3",
   "metadata": {},
   "outputs": [],
   "source": []
  }
 ],
 "metadata": {
  "kernelspec": {
   "display_name": "Python 3",
   "language": "python",
   "name": "python3"
  },
  "language_info": {
   "codemirror_mode": {
    "name": "ipython",
    "version": 3
   },
   "file_extension": ".py",
   "mimetype": "text/x-python",
   "name": "python",
   "nbconvert_exporter": "python",
   "pygments_lexer": "ipython3",
   "version": "3.8.8"
  }
 },
 "nbformat": 4,
 "nbformat_minor": 5
}
