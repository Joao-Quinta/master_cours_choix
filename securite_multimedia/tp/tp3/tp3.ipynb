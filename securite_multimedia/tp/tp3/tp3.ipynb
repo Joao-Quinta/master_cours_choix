{
 "cells": [
  {
   "cell_type": "code",
   "execution_count": 12,
   "metadata": {},
   "outputs": [],
   "source": [
    "from scipy.stats import norm\n",
    "import numpy as np\n",
    "from matplotlib import pyplot as plt\n",
    "import math"
   ]
  },
  {
   "cell_type": "markdown",
   "metadata": {},
   "source": [
    "#### (1) ELEMENTS OF DETECTION THEORY"
   ]
  },
  {
   "cell_type": "markdown",
   "metadata": {},
   "source": [
    "### Exercice 1\n",
    "\n",
    "X ~ N(0,1)  \n",
    "Y ~ N(0,3) "
   ]
  },
  {
   "cell_type": "code",
   "execution_count": 9,
   "metadata": {},
   "outputs": [
    {
     "name": "stdout",
     "output_type": "stream",
     "text": [
      "P[-2 < Y <= 1] =  0.3780661222713134\n",
      "P[Y > 5.5]     =  0.03337650758481726\n",
      "P[-2 < X <= 2] =  0.9544997361036416\n",
      "P[X > 1.5]     =  0.06680720126885807\n"
     ]
    }
   ],
   "source": [
    "x_mu = 0\n",
    "x_sigma = 1\n",
    "y_mu = 0\n",
    "y_sigma = 3\n",
    "print(\"P[-2 < Y <= 1] = \",norm.cdf(1,y_mu,y_sigma) - norm.cdf(-2,y_mu,y_sigma))\n",
    "print(\"P[Y > 5.5]     = \",norm.sf(5.5,y_mu,y_sigma))\n",
    "print(\"P[-2 < X <= 2] = \",norm.cdf(2,x_mu,x_sigma) - norm.cdf(-2,x_mu,x_sigma))\n",
    "print(\"P[X > 1.5]     = \",norm.sf(1.5,x_mu,x_sigma))"
   ]
  },
  {
   "cell_type": "markdown",
   "metadata": {},
   "source": [
    "### Exercice 2\n",
    "\n",
    "X ~ N(27,9)"
   ]
  },
  {
   "cell_type": "code",
   "execution_count": 10,
   "metadata": {},
   "outputs": [
    {
     "name": "stdout",
     "output_type": "stream",
     "text": [
      "P[X > 35]       =  0.18703139874544122\n",
      "P[X <= 5]       =  0.007253771124867803\n",
      "P[20 < X <= 40] =  0.7073429864110152\n"
     ]
    }
   ],
   "source": [
    "x_mu = 27\n",
    "x_sigma = 9\n",
    "print(\"P[X > 35]       = \",norm.sf(35,x_mu,x_sigma))\n",
    "print(\"P[X <= 5]       = \",1-norm.sf(5,x_mu,x_sigma))\n",
    "print(\"P[20 < X <= 40] = \",norm.cdf(40,x_mu,x_sigma) - norm.cdf(20,x_mu,x_sigma))"
   ]
  },
  {
   "cell_type": "markdown",
   "metadata": {},
   "source": [
    "### Exercice 3\n",
    "\n",
    "$E[X] = 0, P[|X| <= 10] = P[-10 < X \\leq 10] = 0.3$  \n",
    "lets set : X ~ N(0, $\\sigma_{x}$), N = X/$\\sigma_{x}$  \n",
    "  \n",
    "we can then rewerite as : \n",
    "$P[-10/\\sigma_{x} < X \\leq 10/\\sigma_{x}] = 0.3 = \\phi(10/\\sigma_{x}) - \\phi(-10/\\sigma_{x}) = \\phi(10/\\sigma_{x}) - (1 - \\phi(10/\\sigma_{x})) = 2*\\phi(10/\\sigma_{x}) - 1$  \n",
    "  \n",
    "$\\phi(10/\\sigma_{x}) = 1.3/2 = 0.65$  \n",
    "  \n",
    "And,  \n",
    "$\\sigma_{x} = 10/\\phi^{-1}(0.65)$\n",
    "\n"
   ]
  },
  {
   "cell_type": "code",
   "execution_count": 11,
   "metadata": {},
   "outputs": [
    {
     "name": "stdout",
     "output_type": "stream",
     "text": [
      "sigma_x =  25.95242368834525\n"
     ]
    }
   ],
   "source": [
    "print(\"sigma_x = \", 10 / norm.ppf(1.3/2))"
   ]
  },
  {
   "cell_type": "markdown",
   "metadata": {},
   "source": [
    "### Exercice 4\n",
    "\n",
    "as defined:  \n",
    "$Q(n) = \\frac{1}{\\sqrt{2 \\pi}} * \\int_{n}^{\\infty} e^{\\frac{-u^2}{2}} du$  \n",
    "lets set: $x = \\frac{u}{\\sqrt{2}}, dx = \\frac{du}{\\sqrt{2}}$  \n",
    "  \n",
    "$Q(n) = \\frac{1}{\\sqrt{2 n}} * \\sqrt{2} * \\int_{n}^{\\infty} e^{-\\frac{(\\sqrt{2}\\pi)^2}{2}} dx$  \n",
    "$Q(n) = \\frac{1}{\\sqrt{n}} * \\int_{n}^{\\infty} e^{-x^2} dx = \\frac{1}{2} erfc(n)$"
   ]
  },
  {
   "cell_type": "markdown",
   "metadata": {},
   "source": [
    "#### (2) BAYESIAN TWO-CLASS CLASSIFICATION"
   ]
  },
  {
   "cell_type": "markdown",
   "metadata": {},
   "source": [
    "#### (3) NEYMAN-PEARSON TEST"
   ]
  },
  {
   "cell_type": "markdown",
   "metadata": {},
   "source": [
    "### Exercice 5\n"
   ]
  },
  {
   "cell_type": "markdown",
   "metadata": {},
   "source": [
    "### Exercice 6\n",
    "from exercice 5: $p_m, p_d$  \n",
    "$p_m = P[A_0 | H_1] = P [X \\leq \\tau | H_1] = \\phi(\\tau - \\mu_1) = \\phi(-\\frac{\\sigma^2}{\\mu_1} * ln(\\frac{1-p}{p}) - \\frac{\\mu_1}{2})$  \n",
    "$p_d = 1 - p_m = \\phi(\\frac{\\sigma^2}{\\mu_1} * ln(\\frac{1-p}{p}) + \\frac{\\mu_1}{2})$  \n",
    "$p_f = P[A_1 | H_0] = P[ X > \\tau | H_0] = 1 - \\phi(\\tau) = \\phi(\\frac{\\sigma^2}{\\mu_1} * ln(\\frac{1-p}{p}) - \\frac{\\mu_1}{2})$"
   ]
  },
  {
   "cell_type": "code",
   "execution_count": null,
   "metadata": {},
   "outputs": [],
   "source": [
    "tau_l = list(range(-3,7))\n",
    "p_f = 1-norm.cdf(tau_l)\n",
    "u_1 = [0, 1, 2]\n",
    "l=[]\n",
    "for u1 in u_1:\n",
    "    p_m = [norm.cdf(t-u1) for t in tau_l]\n",
    "    plt.plot(p_f, p_m)\n",
    "    l.append(f'u_1={u1}')\n",
    "plt.legend(l)\n",
    "plt.xlabel('p_f')\n",
    "plt.ylabel('p_m')\n",
    "plt.title('ROC Curves for u_1={0, 1, 2}')\n",
    "plt.show()"
   ]
  },
  {
   "cell_type": "markdown",
   "metadata": {},
   "source": [
    "### Exercice 7"
   ]
  }
 ],
 "metadata": {
  "kernelspec": {
   "display_name": "Python 3",
   "language": "python",
   "name": "python3"
  },
  "language_info": {
   "codemirror_mode": {
    "name": "ipython",
    "version": 3
   },
   "file_extension": ".py",
   "mimetype": "text/x-python",
   "name": "python",
   "nbconvert_exporter": "python",
   "pygments_lexer": "ipython3",
   "version": "3.9.7"
  }
 },
 "nbformat": 4,
 "nbformat_minor": 4
}
